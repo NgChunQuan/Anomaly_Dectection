{
 "cells": [
  {
   "cell_type": "markdown",
   "metadata": {},
   "source": [
    "## 1. Libraries"
   ]
  },
  {
   "cell_type": "code",
   "execution_count": 1,
   "metadata": {},
   "outputs": [],
   "source": [
    "import numpy as np\n",
    "import pandas as pd\n",
    "import tensorflow as tf\n",
    "from tensorflow.keras.models import load_model\n",
    "\n",
    "from sklearn.model_selection import train_test_split \n",
    "from sklearn.preprocessing import LabelEncoder\n",
    "import pickle"
   ]
  },
  {
   "cell_type": "code",
   "execution_count": 2,
   "metadata": {},
   "outputs": [],
   "source": [
    "pd.set_option('display.max_rows', 1000); pd.set_option('display.max_columns', 1000); pd.set_option('display.width', 1000)"
   ]
  },
  {
   "attachments": {},
   "cell_type": "markdown",
   "metadata": {},
   "source": [
    "## 2. Functions"
   ]
  },
  {
   "cell_type": "code",
   "execution_count": 3,
   "metadata": {},
   "outputs": [],
   "source": [
    "#ML model\n",
    "def train_model(model, x_train_ml, y_train_ml, x_test_ml, y_test_ml):\n",
    "    # Fit model\n",
    "    model.fit(x_train_ml, y_train_ml)\n",
    "    # Generate predictions\n",
    "    y_pred = model.predict(x_test_ml)\n",
    "    # Accuracy Score\n",
    "    score = round((accuracy_score(y_test_ml, y_pred)*100),2)\n",
    "    \n",
    "    print(f'Model = {model}, Accuracy = {score}%')\n",
    "\n",
    "    return model"
   ]
  },
  {
   "cell_type": "code",
   "execution_count": 4,
   "metadata": {},
   "outputs": [],
   "source": [
    "def train_model_xgb(xgb, x_train_ml, y_train_ml, x_test_ml, y_test_ml):\n",
    "    le_xgb = LabelEncoder()\n",
    "    y_train_ml = le_xgb.fit_transform(y_train_ml)\n",
    "    # Fit model\n",
    "    xgb.fit(x_train_ml, y_train_ml)\n",
    "    # Generate predictions\n",
    "    y_pred = xgb.predict(x_test_ml)\n",
    "    y_pred = le_xgb.inverse_transform(y_pred)\n",
    "   # Accuracy Score\n",
    "    score = round((accuracy_score(y_test_ml, y_pred)*100),2)\n",
    "    \n",
    "    print(f'Model = {xgb}, Accuracy = {score}%')\n",
    "\n",
    "    return xgb"
   ]
  },
  {
   "cell_type": "code",
   "execution_count": 5,
   "metadata": {},
   "outputs": [],
   "source": [
    "# Flag anomalies with confidence level \n",
    "def calcualte_loss (predictions, pred_status, y_test, confidence_level):\n",
    "    max_prob = np.max(predictions, axis=1)\n",
    "    anomalies = (pred_status != y_test) & (max_prob > confidence_level)\n",
    "    indexes = np.where(anomalies)\n",
    "    return indexes"
   ]
  },
  {
   "cell_type": "markdown",
   "metadata": {},
   "source": [
    "## 3. Data Preprocessing"
   ]
  },
  {
   "cell_type": "markdown",
   "metadata": {},
   "source": [
    "### a. Load Datasets"
   ]
  },
  {
   "cell_type": "code",
   "execution_count": 6,
   "metadata": {},
   "outputs": [
    {
     "name": "stderr",
     "output_type": "stream",
     "text": [
      "C:\\Users\\Chun Quan\\AppData\\Local\\Temp\\ipykernel_17704\\3670644652.py:2: DtypeWarning: Columns (21,22,23,24,25,28) have mixed types. Specify dtype option on import or set low_memory=False.\n",
      "  tmp = pd.read_csv(\"hisevents_nov_2023.csv\")\n"
     ]
    }
   ],
   "source": [
    "# Load dataset\n",
    "tmp = pd.read_csv(\"hisevents_nov_2023.csv\")"
   ]
  },
  {
   "cell_type": "markdown",
   "metadata": {},
   "source": [
    "The warning indicates that columns (21, 22, 23, 24, 25, and 28) contain mixed data types. We should examine the unique values in these columns to better understand the data types and update them accordingly."
   ]
  },
  {
   "cell_type": "code",
   "execution_count": 7,
   "metadata": {},
   "outputs": [
    {
     "data": {
      "text/plain": [
       "array([nan, 'C760', 'C751A'], dtype=object)"
      ]
     },
     "execution_count": 7,
     "metadata": {},
     "output_type": "execute_result"
    }
   ],
   "source": [
    "# Examine the unique values in the col\n",
    "tmp.iloc[:,28].unique()"
   ]
  },
  {
   "cell_type": "markdown",
   "metadata": {},
   "source": [
    "Since all of these columns are in string format, we will update them to have the str datatype."
   ]
  },
  {
   "cell_type": "code",
   "execution_count": 8,
   "metadata": {},
   "outputs": [],
   "source": [
    "# Update col datatype in df\n",
    "tmp.iloc[:,21]=tmp.iloc[:,21].astype(str)\n",
    "tmp.iloc[:,22]=tmp.iloc[:,22].astype(str)\n",
    "tmp.iloc[:,23]=tmp.iloc[:,23].astype(str)\n",
    "tmp.iloc[:,24]=tmp.iloc[:,24].astype(str)\n",
    "tmp.iloc[:,25]=tmp.iloc[:,25].astype(str)\n",
    "tmp.iloc[:,28]=tmp.iloc[:,28].astype(str)"
   ]
  },
  {
   "cell_type": "markdown",
   "metadata": {},
   "source": [
    "### b. Extract Escalator Dataset "
   ]
  },
  {
   "cell_type": "code",
   "execution_count": 9,
   "metadata": {},
   "outputs": [],
   "source": [
    "# Filter MESSAGE that contains Escalator: Operating Status, ASSETNAME that contains L&E/.../../E..\n",
    "tmp = tmp[(tmp['MESSAGE']=='Escalator: Operating Status') & (tmp['ASSETNAME'].str.match(r'L&E/[A-Z]{3}/\\w{1}\\d{1}/E\\d{2}'))][['ASSETNAME','STATUS','dttm']].reset_index(drop=True)\n",
    "tmp['dttm']=pd.to_datetime(tmp['dttm'])"
   ]
  },
  {
   "cell_type": "markdown",
   "metadata": {},
   "source": [
    "### c. EDA"
   ]
  },
  {
   "cell_type": "code",
   "execution_count": 10,
   "metadata": {},
   "outputs": [
    {
     "name": "stdout",
     "output_type": "stream",
     "text": [
      "<class 'pandas.core.frame.DataFrame'>\n",
      "RangeIndex: 57699 entries, 0 to 57698\n",
      "Data columns (total 3 columns):\n",
      " #   Column     Non-Null Count  Dtype         \n",
      "---  ------     --------------  -----         \n",
      " 0   ASSETNAME  57699 non-null  object        \n",
      " 1   STATUS     57699 non-null  object        \n",
      " 2   dttm       57699 non-null  datetime64[ns]\n",
      "dtypes: datetime64[ns](1), object(2)\n",
      "memory usage: 1.3+ MB\n"
     ]
    }
   ],
   "source": [
    "# Check for Missing Data\n",
    "tmp.info()"
   ]
  },
  {
   "cell_type": "code",
   "execution_count": 11,
   "metadata": {},
   "outputs": [
    {
     "data": {
      "text/html": [
       "<div>\n",
       "<style scoped>\n",
       "    .dataframe tbody tr th:only-of-type {\n",
       "        vertical-align: middle;\n",
       "    }\n",
       "\n",
       "    .dataframe tbody tr th {\n",
       "        vertical-align: top;\n",
       "    }\n",
       "\n",
       "    .dataframe thead th {\n",
       "        text-align: right;\n",
       "    }\n",
       "</style>\n",
       "<table border=\"1\" class=\"dataframe\">\n",
       "  <thead>\n",
       "    <tr style=\"text-align: right;\">\n",
       "      <th></th>\n",
       "      <th>ASSETNAME</th>\n",
       "      <th>STATUS</th>\n",
       "      <th>dttm</th>\n",
       "    </tr>\n",
       "  </thead>\n",
       "  <tbody>\n",
       "    <tr>\n",
       "      <th>17932</th>\n",
       "      <td>L&amp;E/SER/B1/E05</td>\n",
       "      <td>STOP</td>\n",
       "      <td>2023-11-11 01:57:43</td>\n",
       "    </tr>\n",
       "    <tr>\n",
       "      <th>38676</th>\n",
       "      <td>L&amp;E/SKG/O1/E02</td>\n",
       "      <td>STOP</td>\n",
       "      <td>2023-11-22 04:01:13</td>\n",
       "    </tr>\n",
       "    <tr>\n",
       "      <th>39380</th>\n",
       "      <td>L&amp;E/SKG/O2/E01</td>\n",
       "      <td>UP</td>\n",
       "      <td>2023-11-22 09:17:49</td>\n",
       "    </tr>\n",
       "  </tbody>\n",
       "</table>\n",
       "</div>"
      ],
      "text/plain": [
       "            ASSETNAME STATUS                dttm\n",
       "17932  L&E/SER/B1/E05   STOP 2023-11-11 01:57:43\n",
       "38676  L&E/SKG/O1/E02   STOP 2023-11-22 04:01:13\n",
       "39380  L&E/SKG/O2/E01     UP 2023-11-22 09:17:49"
      ]
     },
     "execution_count": 11,
     "metadata": {},
     "output_type": "execute_result"
    }
   ],
   "source": [
    "tmp.sample(3)"
   ]
  },
  {
   "cell_type": "markdown",
   "metadata": {},
   "source": [
    "### d. Group by 30 Minute Frequency"
   ]
  },
  {
   "cell_type": "code",
   "execution_count": 12,
   "metadata": {},
   "outputs": [],
   "source": [
    "# Reshape to 30 mintue frequency, count status\n",
    "grouped_30 = tmp.groupby(\n",
    "    ['ASSETNAME', pd.Grouper(\n",
    "        key='dttm', freq='30T')]).apply(lambda x: pd.Series({\n",
    "   'status_count': x['STATUS'].isin(['STOP', 'UP', 'DOWN']).sum(),\n",
    "   'STATUS': x['STATUS'].tolist()\n",
    "})).reset_index()"
   ]
  },
  {
   "cell_type": "code",
   "execution_count": 13,
   "metadata": {},
   "outputs": [],
   "source": [
    "# Convert to datetime format, create a col for date and time\n",
    "grouped_30['dttm']=pd.to_datetime(grouped_30['dttm'])\n",
    "grouped_30['date']=grouped_30['dttm'].dt.date\n",
    "grouped_30['time']=grouped_30['dttm'].dt.time"
   ]
  },
  {
   "cell_type": "code",
   "execution_count": 14,
   "metadata": {},
   "outputs": [
    {
     "data": {
      "text/html": [
       "<div>\n",
       "<style scoped>\n",
       "    .dataframe tbody tr th:only-of-type {\n",
       "        vertical-align: middle;\n",
       "    }\n",
       "\n",
       "    .dataframe tbody tr th {\n",
       "        vertical-align: top;\n",
       "    }\n",
       "\n",
       "    .dataframe thead th {\n",
       "        text-align: right;\n",
       "    }\n",
       "</style>\n",
       "<table border=\"1\" class=\"dataframe\">\n",
       "  <thead>\n",
       "    <tr style=\"text-align: right;\">\n",
       "      <th></th>\n",
       "      <th>ASSETNAME</th>\n",
       "      <th>dttm</th>\n",
       "      <th>status_count</th>\n",
       "      <th>STATUS</th>\n",
       "      <th>date</th>\n",
       "      <th>time</th>\n",
       "    </tr>\n",
       "  </thead>\n",
       "  <tbody>\n",
       "    <tr>\n",
       "      <th>17522</th>\n",
       "      <td>L&amp;E/LTI/B1/E05</td>\n",
       "      <td>2023-11-01 01:30:00</td>\n",
       "      <td>2</td>\n",
       "      <td>[UP, STOP]</td>\n",
       "      <td>2023-11-01</td>\n",
       "      <td>01:30:00</td>\n",
       "    </tr>\n",
       "    <tr>\n",
       "      <th>1530</th>\n",
       "      <td>L&amp;E/BGK/B1/E03</td>\n",
       "      <td>2023-11-19 19:00:00</td>\n",
       "      <td>2</td>\n",
       "      <td>[STOP, DOWN]</td>\n",
       "      <td>2023-11-19</td>\n",
       "      <td>19:00:00</td>\n",
       "    </tr>\n",
       "    <tr>\n",
       "      <th>17838</th>\n",
       "      <td>L&amp;E/LTI/B1/E07</td>\n",
       "      <td>2023-11-24 00:00:00</td>\n",
       "      <td>1</td>\n",
       "      <td>[STOP]</td>\n",
       "      <td>2023-11-24</td>\n",
       "      <td>00:00:00</td>\n",
       "    </tr>\n",
       "  </tbody>\n",
       "</table>\n",
       "</div>"
      ],
      "text/plain": [
       "            ASSETNAME                dttm  status_count        STATUS        date      time\n",
       "17522  L&E/LTI/B1/E05 2023-11-01 01:30:00             2    [UP, STOP]  2023-11-01  01:30:00\n",
       "1530   L&E/BGK/B1/E03 2023-11-19 19:00:00             2  [STOP, DOWN]  2023-11-19  19:00:00\n",
       "17838  L&E/LTI/B1/E07 2023-11-24 00:00:00             1        [STOP]  2023-11-24  00:00:00"
      ]
     },
     "execution_count": 14,
     "metadata": {},
     "output_type": "execute_result"
    }
   ],
   "source": [
    "grouped_30.sample(3)"
   ]
  },
  {
   "cell_type": "code",
   "execution_count": 15,
   "metadata": {},
   "outputs": [],
   "source": [
    "# Keep the last index of STATUS for length of status > 1\n",
    "grouped = grouped_30.copy(deep=True)\n",
    "for index, row in grouped.iterrows():\n",
    "    if row['status_count'] > 1:\n",
    "        grouped.loc[index,'STATUS'] = row['STATUS'][-1]\n",
    "\n",
    "grouped.drop(columns='status_count', inplace=True)\n",
    "\n",
    "# Remove list datatype in STATUS col\n",
    "grouped= grouped.explode('STATUS')"
   ]
  },
  {
   "cell_type": "code",
   "execution_count": 16,
   "metadata": {},
   "outputs": [
    {
     "data": {
      "text/html": [
       "<div>\n",
       "<style scoped>\n",
       "    .dataframe tbody tr th:only-of-type {\n",
       "        vertical-align: middle;\n",
       "    }\n",
       "\n",
       "    .dataframe tbody tr th {\n",
       "        vertical-align: top;\n",
       "    }\n",
       "\n",
       "    .dataframe thead th {\n",
       "        text-align: right;\n",
       "    }\n",
       "</style>\n",
       "<table border=\"1\" class=\"dataframe\">\n",
       "  <thead>\n",
       "    <tr style=\"text-align: right;\">\n",
       "      <th></th>\n",
       "      <th>ASSETNAME</th>\n",
       "      <th>dttm</th>\n",
       "      <th>STATUS</th>\n",
       "      <th>date</th>\n",
       "      <th>time</th>\n",
       "    </tr>\n",
       "  </thead>\n",
       "  <tbody>\n",
       "    <tr>\n",
       "      <th>12944</th>\n",
       "      <td>L&amp;E/FRP/B2/E02</td>\n",
       "      <td>2023-11-11 02:30:00</td>\n",
       "      <td>STOP</td>\n",
       "      <td>2023-11-11</td>\n",
       "      <td>02:30:00</td>\n",
       "    </tr>\n",
       "    <tr>\n",
       "      <th>2989</th>\n",
       "      <td>L&amp;E/BGK/B2/E02</td>\n",
       "      <td>2023-11-01 05:00:00</td>\n",
       "      <td>DOWN</td>\n",
       "      <td>2023-11-01</td>\n",
       "      <td>05:00:00</td>\n",
       "    </tr>\n",
       "    <tr>\n",
       "      <th>9685</th>\n",
       "      <td>L&amp;E/DBG/B2/E08</td>\n",
       "      <td>2023-11-14 02:00:00</td>\n",
       "      <td>STOP</td>\n",
       "      <td>2023-11-14</td>\n",
       "      <td>02:00:00</td>\n",
       "    </tr>\n",
       "  </tbody>\n",
       "</table>\n",
       "</div>"
      ],
      "text/plain": [
       "            ASSETNAME                dttm STATUS        date      time\n",
       "12944  L&E/FRP/B2/E02 2023-11-11 02:30:00   STOP  2023-11-11  02:30:00\n",
       "2989   L&E/BGK/B2/E02 2023-11-01 05:00:00   DOWN  2023-11-01  05:00:00\n",
       "9685   L&E/DBG/B2/E08 2023-11-14 02:00:00   STOP  2023-11-14  02:00:00"
      ]
     },
     "execution_count": 16,
     "metadata": {},
     "output_type": "execute_result"
    }
   ],
   "source": [
    "grouped.sample(3)"
   ]
  },
  {
   "cell_type": "code",
   "execution_count": 17,
   "metadata": {},
   "outputs": [],
   "source": [
    "# Extend data to include missing 30 minute interval, fill in missing values\n",
    "tmp_grouped = grouped.groupby('ASSETNAME')\n",
    "\n",
    "tmp_list = []\n",
    "for index, data in tmp_grouped:\n",
    "   grouped_df = data.set_index('dttm').resample('30T').ffill()\n",
    "   grouped_df = grouped_df.reset_index()\n",
    "   grouped_df['time'] = grouped_df['dttm'].dt.time\n",
    "   grouped_df['date'] = grouped_df['dttm'].dt.date\n",
    "   \n",
    "   grouped_df  = grouped_df.sort_values(by=\"dttm\", ascending=True)\n",
    "\n",
    "   next_status = [\n",
    "      grouped_df.iloc[x+1][\"STATUS\"] for x in range(len(grouped_df)-1)]\n",
    "   next_status += [None] # Last value in list set to None\n",
    "   \n",
    "   # Append the grouped dataframes\n",
    "   grouped_df[\"next_status\"] = next_status\n",
    "   tmp_list.append(grouped_df.iloc[:-1]) # Except last row\n",
    "\n",
    "# Concatenate the dataframes\n",
    "grouped_df = pd.concat(tmp_list).reset_index(drop=True)"
   ]
  },
  {
   "cell_type": "code",
   "execution_count": 18,
   "metadata": {},
   "outputs": [
    {
     "data": {
      "text/html": [
       "<div>\n",
       "<style scoped>\n",
       "    .dataframe tbody tr th:only-of-type {\n",
       "        vertical-align: middle;\n",
       "    }\n",
       "\n",
       "    .dataframe tbody tr th {\n",
       "        vertical-align: top;\n",
       "    }\n",
       "\n",
       "    .dataframe thead th {\n",
       "        text-align: right;\n",
       "    }\n",
       "</style>\n",
       "<table border=\"1\" class=\"dataframe\">\n",
       "  <thead>\n",
       "    <tr style=\"text-align: right;\">\n",
       "      <th></th>\n",
       "      <th>dttm</th>\n",
       "      <th>ASSETNAME</th>\n",
       "      <th>STATUS</th>\n",
       "      <th>date</th>\n",
       "      <th>time</th>\n",
       "      <th>next_status</th>\n",
       "    </tr>\n",
       "  </thead>\n",
       "  <tbody>\n",
       "    <tr>\n",
       "      <th>0</th>\n",
       "      <td>2023-11-01 00:00:00</td>\n",
       "      <td>L&amp;E/BGK/B1/E01</td>\n",
       "      <td>STOP</td>\n",
       "      <td>2023-11-01</td>\n",
       "      <td>00:00:00</td>\n",
       "      <td>STOP</td>\n",
       "    </tr>\n",
       "    <tr>\n",
       "      <th>1</th>\n",
       "      <td>2023-11-01 00:30:00</td>\n",
       "      <td>L&amp;E/BGK/B1/E01</td>\n",
       "      <td>STOP</td>\n",
       "      <td>2023-11-01</td>\n",
       "      <td>00:30:00</td>\n",
       "      <td>STOP</td>\n",
       "    </tr>\n",
       "    <tr>\n",
       "      <th>2</th>\n",
       "      <td>2023-11-01 01:00:00</td>\n",
       "      <td>L&amp;E/BGK/B1/E01</td>\n",
       "      <td>STOP</td>\n",
       "      <td>2023-11-01</td>\n",
       "      <td>01:00:00</td>\n",
       "      <td>STOP</td>\n",
       "    </tr>\n",
       "  </tbody>\n",
       "</table>\n",
       "</div>"
      ],
      "text/plain": [
       "                 dttm       ASSETNAME STATUS        date      time next_status\n",
       "0 2023-11-01 00:00:00  L&E/BGK/B1/E01   STOP  2023-11-01  00:00:00        STOP\n",
       "1 2023-11-01 00:30:00  L&E/BGK/B1/E01   STOP  2023-11-01  00:30:00        STOP\n",
       "2 2023-11-01 01:00:00  L&E/BGK/B1/E01   STOP  2023-11-01  01:00:00        STOP"
      ]
     },
     "execution_count": 18,
     "metadata": {},
     "output_type": "execute_result"
    }
   ],
   "source": [
    "grouped_df.head(3)"
   ]
  },
  {
   "cell_type": "markdown",
   "metadata": {},
   "source": [
    "## 4. Train Test Split"
   ]
  },
  {
   "cell_type": "markdown",
   "metadata": {},
   "source": [
    "Training data: all except 01-12-2023 data"
   ]
  },
  {
   "cell_type": "code",
   "execution_count": 19,
   "metadata": {},
   "outputs": [],
   "source": [
    "train_data= grouped_df[pd.to_datetime(grouped_df['date']) != '2023-12-01'].reset_index(drop=True)"
   ]
  },
  {
   "cell_type": "code",
   "execution_count": 20,
   "metadata": {},
   "outputs": [
    {
     "data": {
      "text/html": [
       "<div>\n",
       "<style scoped>\n",
       "    .dataframe tbody tr th:only-of-type {\n",
       "        vertical-align: middle;\n",
       "    }\n",
       "\n",
       "    .dataframe tbody tr th {\n",
       "        vertical-align: top;\n",
       "    }\n",
       "\n",
       "    .dataframe thead th {\n",
       "        text-align: right;\n",
       "    }\n",
       "</style>\n",
       "<table border=\"1\" class=\"dataframe\">\n",
       "  <thead>\n",
       "    <tr style=\"text-align: right;\">\n",
       "      <th></th>\n",
       "      <th>dttm</th>\n",
       "      <th>ASSETNAME</th>\n",
       "      <th>STATUS</th>\n",
       "      <th>date</th>\n",
       "      <th>time</th>\n",
       "      <th>next_status</th>\n",
       "    </tr>\n",
       "  </thead>\n",
       "  <tbody>\n",
       "    <tr>\n",
       "      <th>0</th>\n",
       "      <td>2023-11-01 00:00:00</td>\n",
       "      <td>L&amp;E/BGK/B1/E01</td>\n",
       "      <td>STOP</td>\n",
       "      <td>2023-11-01</td>\n",
       "      <td>00:00:00</td>\n",
       "      <td>STOP</td>\n",
       "    </tr>\n",
       "    <tr>\n",
       "      <th>1</th>\n",
       "      <td>2023-11-01 00:30:00</td>\n",
       "      <td>L&amp;E/BGK/B1/E01</td>\n",
       "      <td>STOP</td>\n",
       "      <td>2023-11-01</td>\n",
       "      <td>00:30:00</td>\n",
       "      <td>STOP</td>\n",
       "    </tr>\n",
       "    <tr>\n",
       "      <th>2</th>\n",
       "      <td>2023-11-01 01:00:00</td>\n",
       "      <td>L&amp;E/BGK/B1/E01</td>\n",
       "      <td>STOP</td>\n",
       "      <td>2023-11-01</td>\n",
       "      <td>01:00:00</td>\n",
       "      <td>STOP</td>\n",
       "    </tr>\n",
       "  </tbody>\n",
       "</table>\n",
       "</div>"
      ],
      "text/plain": [
       "                 dttm       ASSETNAME STATUS        date      time next_status\n",
       "0 2023-11-01 00:00:00  L&E/BGK/B1/E01   STOP  2023-11-01  00:00:00        STOP\n",
       "1 2023-11-01 00:30:00  L&E/BGK/B1/E01   STOP  2023-11-01  00:30:00        STOP\n",
       "2 2023-11-01 01:00:00  L&E/BGK/B1/E01   STOP  2023-11-01  01:00:00        STOP"
      ]
     },
     "execution_count": 20,
     "metadata": {},
     "output_type": "execute_result"
    }
   ],
   "source": [
    "train_data.head(3)"
   ]
  },
  {
   "cell_type": "markdown",
   "metadata": {},
   "source": [
    "Testing data: 01-12-2023 data"
   ]
  },
  {
   "cell_type": "code",
   "execution_count": 21,
   "metadata": {},
   "outputs": [],
   "source": [
    "test_data = grouped_df[pd.to_datetime(grouped_df['date']) == pd.to_datetime('2023-12-01')].reset_index(drop=True)"
   ]
  },
  {
   "cell_type": "code",
   "execution_count": 22,
   "metadata": {},
   "outputs": [
    {
     "data": {
      "text/html": [
       "<div>\n",
       "<style scoped>\n",
       "    .dataframe tbody tr th:only-of-type {\n",
       "        vertical-align: middle;\n",
       "    }\n",
       "\n",
       "    .dataframe tbody tr th {\n",
       "        vertical-align: top;\n",
       "    }\n",
       "\n",
       "    .dataframe thead th {\n",
       "        text-align: right;\n",
       "    }\n",
       "</style>\n",
       "<table border=\"1\" class=\"dataframe\">\n",
       "  <thead>\n",
       "    <tr style=\"text-align: right;\">\n",
       "      <th></th>\n",
       "      <th>dttm</th>\n",
       "      <th>ASSETNAME</th>\n",
       "      <th>STATUS</th>\n",
       "      <th>date</th>\n",
       "      <th>time</th>\n",
       "      <th>next_status</th>\n",
       "    </tr>\n",
       "  </thead>\n",
       "  <tbody>\n",
       "    <tr>\n",
       "      <th>0</th>\n",
       "      <td>2023-12-01 00:00:00</td>\n",
       "      <td>L&amp;E/BGK/B1/E01</td>\n",
       "      <td>UP</td>\n",
       "      <td>2023-12-01</td>\n",
       "      <td>00:00:00</td>\n",
       "      <td>STOP</td>\n",
       "    </tr>\n",
       "    <tr>\n",
       "      <th>1</th>\n",
       "      <td>2023-12-01 00:30:00</td>\n",
       "      <td>L&amp;E/BGK/B1/E01</td>\n",
       "      <td>STOP</td>\n",
       "      <td>2023-12-01</td>\n",
       "      <td>00:30:00</td>\n",
       "      <td>STOP</td>\n",
       "    </tr>\n",
       "    <tr>\n",
       "      <th>2</th>\n",
       "      <td>2023-12-01 01:00:00</td>\n",
       "      <td>L&amp;E/BGK/B1/E01</td>\n",
       "      <td>STOP</td>\n",
       "      <td>2023-12-01</td>\n",
       "      <td>01:00:00</td>\n",
       "      <td>STOP</td>\n",
       "    </tr>\n",
       "  </tbody>\n",
       "</table>\n",
       "</div>"
      ],
      "text/plain": [
       "                 dttm       ASSETNAME STATUS        date      time next_status\n",
       "0 2023-12-01 00:00:00  L&E/BGK/B1/E01     UP  2023-12-01  00:00:00        STOP\n",
       "1 2023-12-01 00:30:00  L&E/BGK/B1/E01   STOP  2023-12-01  00:30:00        STOP\n",
       "2 2023-12-01 01:00:00  L&E/BGK/B1/E01   STOP  2023-12-01  01:00:00        STOP"
      ]
     },
     "execution_count": 22,
     "metadata": {},
     "output_type": "execute_result"
    }
   ],
   "source": [
    "test_data.head(3)"
   ]
  },
  {
   "cell_type": "markdown",
   "metadata": {},
   "source": [
    "## 5. Data Preprocessing for LSTM/ SimpleRNN"
   ]
  },
  {
   "cell_type": "code",
   "execution_count": 23,
   "metadata": {},
   "outputs": [],
   "source": [
    "# Label Encoding\n",
    "status_to_index = {'STOP': 0,'UP': 1,'DOWN': 2}\n",
    "\n",
    "train_data[\"STATUS\"] = [\n",
    "    status_to_index[x] for x in list(train_data[\"STATUS\"].values)]\n",
    "\n",
    "test_data[\"STATUS\"] = [\n",
    "    status_to_index[x] for x in list(test_data[\"STATUS\"].values)]\n",
    "\n",
    "train_data[\"next_status\"] = [\n",
    "    status_to_index[x] for x in list(train_data[\"next_status\"].values)]\n",
    "\n",
    "test_data[\"next_status\"] = [\n",
    "    status_to_index[x] for x in list(test_data[\"next_status\"].values)]\n",
    "\n",
    "# Time Encoding\n",
    "time_interval = list(sorted(list(pd.unique(train_data[\"time\"]))))\n",
    "time_to_index = dict([\n",
    "    (time_interval[x], x) for x in range(len(time_interval))])\n",
    "\n",
    "# Each time is assigned to an index\n",
    "train_data[\"time_index\"] = [\n",
    "    time_to_index[x] for x in list(train_data[\"time\"].values)]\n",
    "test_data[\"time_index\"] = [\n",
    "    time_to_index[x] for x in list(test_data[\"time\"].values)]\n",
    "\n",
    "# Escalator Encoding\n",
    "asset_names  = list(\n",
    "    sorted(list(pd.unique(train_data[\"ASSETNAME\"]))))\n",
    "esc_to_index = dict([\n",
    "    (asset_names[x], x) for x in range(len(asset_names))])\n",
    "\n",
    "# Each assetname is assgined to an index\n",
    "train_data[\"esc_index\"] = [\n",
    "    esc_to_index[x] for x in list(train_data[\"ASSETNAME\"].values)]\n",
    "test_data[\"esc_index\"] = [\n",
    "    esc_to_index[x] for x in list(test_data[\"ASSETNAME\"].values)]"
   ]
  },
  {
   "cell_type": "code",
   "execution_count": 24,
   "metadata": {},
   "outputs": [
    {
     "data": {
      "text/html": [
       "<div>\n",
       "<style scoped>\n",
       "    .dataframe tbody tr th:only-of-type {\n",
       "        vertical-align: middle;\n",
       "    }\n",
       "\n",
       "    .dataframe tbody tr th {\n",
       "        vertical-align: top;\n",
       "    }\n",
       "\n",
       "    .dataframe thead th {\n",
       "        text-align: right;\n",
       "    }\n",
       "</style>\n",
       "<table border=\"1\" class=\"dataframe\">\n",
       "  <thead>\n",
       "    <tr style=\"text-align: right;\">\n",
       "      <th></th>\n",
       "      <th>dttm</th>\n",
       "      <th>ASSETNAME</th>\n",
       "      <th>STATUS</th>\n",
       "      <th>date</th>\n",
       "      <th>time</th>\n",
       "      <th>next_status</th>\n",
       "      <th>time_index</th>\n",
       "      <th>esc_index</th>\n",
       "    </tr>\n",
       "  </thead>\n",
       "  <tbody>\n",
       "    <tr>\n",
       "      <th>256896</th>\n",
       "      <td>2023-11-08 15:30:00</td>\n",
       "      <td>L&amp;E/SER/B1/E06</td>\n",
       "      <td>1</td>\n",
       "      <td>2023-11-08</td>\n",
       "      <td>15:30:00</td>\n",
       "      <td>1</td>\n",
       "      <td>31</td>\n",
       "      <td>179</td>\n",
       "    </tr>\n",
       "    <tr>\n",
       "      <th>67079</th>\n",
       "      <td>2023-11-18 12:30:00</td>\n",
       "      <td>L&amp;E/DBG/B1/E02</td>\n",
       "      <td>2</td>\n",
       "      <td>2023-11-18</td>\n",
       "      <td>12:30:00</td>\n",
       "      <td>2</td>\n",
       "      <td>25</td>\n",
       "      <td>46</td>\n",
       "    </tr>\n",
       "    <tr>\n",
       "      <th>239440</th>\n",
       "      <td>2023-11-04 23:00:00</td>\n",
       "      <td>L&amp;E/PTP/B1/E03</td>\n",
       "      <td>2</td>\n",
       "      <td>2023-11-04</td>\n",
       "      <td>23:00:00</td>\n",
       "      <td>2</td>\n",
       "      <td>46</td>\n",
       "      <td>167</td>\n",
       "    </tr>\n",
       "  </tbody>\n",
       "</table>\n",
       "</div>"
      ],
      "text/plain": [
       "                      dttm       ASSETNAME  STATUS        date      time  next_status  time_index  esc_index\n",
       "256896 2023-11-08 15:30:00  L&E/SER/B1/E06       1  2023-11-08  15:30:00            1          31        179\n",
       "67079  2023-11-18 12:30:00  L&E/DBG/B1/E02       2  2023-11-18  12:30:00            2          25         46\n",
       "239440 2023-11-04 23:00:00  L&E/PTP/B1/E03       2  2023-11-04  23:00:00            2          46        167"
      ]
     },
     "execution_count": 24,
     "metadata": {},
     "output_type": "execute_result"
    }
   ],
   "source": [
    "train_data.sample(3)"
   ]
  },
  {
   "cell_type": "code",
   "execution_count": 25,
   "metadata": {},
   "outputs": [
    {
     "data": {
      "text/html": [
       "<div>\n",
       "<style scoped>\n",
       "    .dataframe tbody tr th:only-of-type {\n",
       "        vertical-align: middle;\n",
       "    }\n",
       "\n",
       "    .dataframe tbody tr th {\n",
       "        vertical-align: top;\n",
       "    }\n",
       "\n",
       "    .dataframe thead th {\n",
       "        text-align: right;\n",
       "    }\n",
       "</style>\n",
       "<table border=\"1\" class=\"dataframe\">\n",
       "  <thead>\n",
       "    <tr style=\"text-align: right;\">\n",
       "      <th></th>\n",
       "      <th>dttm</th>\n",
       "      <th>ASSETNAME</th>\n",
       "      <th>STATUS</th>\n",
       "      <th>date</th>\n",
       "      <th>time</th>\n",
       "      <th>next_status</th>\n",
       "      <th>time_index</th>\n",
       "      <th>esc_index</th>\n",
       "    </tr>\n",
       "  </thead>\n",
       "  <tbody>\n",
       "    <tr>\n",
       "      <th>1283</th>\n",
       "      <td>2023-12-01 07:30:00</td>\n",
       "      <td>L&amp;E/DBG/B5/E04</td>\n",
       "      <td>2</td>\n",
       "      <td>2023-12-01</td>\n",
       "      <td>07:30:00</td>\n",
       "      <td>2</td>\n",
       "      <td>15</td>\n",
       "      <td>67</td>\n",
       "    </tr>\n",
       "    <tr>\n",
       "      <th>2129</th>\n",
       "      <td>2023-12-01 03:00:00</td>\n",
       "      <td>L&amp;E/PGL/O1/E04</td>\n",
       "      <td>0</td>\n",
       "      <td>2023-12-01</td>\n",
       "      <td>03:00:00</td>\n",
       "      <td>0</td>\n",
       "      <td>6</td>\n",
       "      <td>164</td>\n",
       "    </tr>\n",
       "    <tr>\n",
       "      <th>591</th>\n",
       "      <td>2023-12-01 06:30:00</td>\n",
       "      <td>L&amp;E/CQY/B1/E07</td>\n",
       "      <td>2</td>\n",
       "      <td>2023-12-01</td>\n",
       "      <td>06:30:00</td>\n",
       "      <td>2</td>\n",
       "      <td>13</td>\n",
       "      <td>37</td>\n",
       "    </tr>\n",
       "  </tbody>\n",
       "</table>\n",
       "</div>"
      ],
      "text/plain": [
       "                    dttm       ASSETNAME  STATUS        date      time  next_status  time_index  esc_index\n",
       "1283 2023-12-01 07:30:00  L&E/DBG/B5/E04       2  2023-12-01  07:30:00            2          15         67\n",
       "2129 2023-12-01 03:00:00  L&E/PGL/O1/E04       0  2023-12-01  03:00:00            0           6        164\n",
       "591  2023-12-01 06:30:00  L&E/CQY/B1/E07       2  2023-12-01  06:30:00            2          13         37"
      ]
     },
     "execution_count": 25,
     "metadata": {},
     "output_type": "execute_result"
    }
   ],
   "source": [
    "test_data.sample(3)"
   ]
  },
  {
   "cell_type": "markdown",
   "metadata": {},
   "source": [
    "## 6. LSTM"
   ]
  },
  {
   "cell_type": "code",
   "execution_count": 26,
   "metadata": {},
   "outputs": [],
   "source": [
    "def build_model():\n",
    "    x_input = tf.keras.Input( \n",
    "        shape=(3,1,), dtype=\"int32\", name=\"x_input\")\n",
    "    x_status = tf.keras.layers.Embedding(3, 32)(x_input[:, 1, :])\n",
    "    x_tm_day = tf.keras.layers.Embedding(48, 32)(x_input[:, 0, :])\n",
    "    x_asset  = tf.keras.layers.Embedding(210, 32)(x_input[:, 2, :])\n",
    "    \n",
    "    x_lstm = tf.keras.layers.LSTM(\n",
    "        32, return_sequences=False)(x_status + x_tm_day + x_asset)\n",
    "    \n",
    "    x_logits = tf.keras.layers.Dense(3)(x_lstm) \n",
    "    x_probs  = tf.nn.softmax(x_logits, axis=-1)\n",
    "    return tf.keras.Model(inputs=x_input, outputs=x_probs)"
   ]
  },
  {
   "cell_type": "code",
   "execution_count": 27,
   "metadata": {},
   "outputs": [
    {
     "name": "stdout",
     "output_type": "stream",
     "text": [
      "Epoch 1/15\n",
      "2353/2353 [==============================] - 6s 2ms/step - loss: 0.6659 - accuracy: 0.7646 - val_loss: 0.4608 - val_accuracy: 0.9074\n",
      "Epoch 2/15\n",
      "2353/2353 [==============================] - 4s 2ms/step - loss: 0.1932 - accuracy: 0.9571 - val_loss: 0.3363 - val_accuracy: 0.9074\n",
      "Epoch 3/15\n",
      "2353/2353 [==============================] - 4s 2ms/step - loss: 0.1531 - accuracy: 0.9571 - val_loss: 0.3212 - val_accuracy: 0.9074\n",
      "Epoch 4/15\n",
      "2353/2353 [==============================] - 4s 2ms/step - loss: 0.1271 - accuracy: 0.9587 - val_loss: 0.2887 - val_accuracy: 0.9074\n",
      "Epoch 5/15\n",
      "2353/2353 [==============================] - 4s 2ms/step - loss: 0.1075 - accuracy: 0.9645 - val_loss: 0.2528 - val_accuracy: 0.9074\n",
      "Epoch 6/15\n",
      "2353/2353 [==============================] - 4s 2ms/step - loss: 0.0962 - accuracy: 0.9676 - val_loss: 0.2346 - val_accuracy: 0.9197\n",
      "Epoch 7/15\n",
      "2353/2353 [==============================] - 4s 2ms/step - loss: 0.0903 - accuracy: 0.9699 - val_loss: 0.2263 - val_accuracy: 0.9273\n",
      "Epoch 8/15\n",
      "2353/2353 [==============================] - 4s 2ms/step - loss: 0.0870 - accuracy: 0.9730 - val_loss: 0.2219 - val_accuracy: 0.9431\n",
      "Epoch 9/15\n",
      "2353/2353 [==============================] - 4s 2ms/step - loss: 0.0850 - accuracy: 0.9751 - val_loss: 0.2194 - val_accuracy: 0.9424\n",
      "Epoch 10/15\n",
      "2353/2353 [==============================] - 4s 2ms/step - loss: 0.0836 - accuracy: 0.9756 - val_loss: 0.2164 - val_accuracy: 0.9451\n",
      "Epoch 11/15\n",
      "2353/2353 [==============================] - 4s 2ms/step - loss: 0.0825 - accuracy: 0.9760 - val_loss: 0.2143 - val_accuracy: 0.9451\n",
      "Epoch 12/15\n",
      "2353/2353 [==============================] - 4s 2ms/step - loss: 0.0815 - accuracy: 0.9762 - val_loss: 0.2118 - val_accuracy: 0.9465\n",
      "Epoch 13/15\n",
      "2353/2353 [==============================] - 4s 2ms/step - loss: 0.0807 - accuracy: 0.9765 - val_loss: 0.2100 - val_accuracy: 0.9461\n",
      "Epoch 14/15\n",
      "2353/2353 [==============================] - 4s 2ms/step - loss: 0.0799 - accuracy: 0.9767 - val_loss: 0.2079 - val_accuracy: 0.9475\n",
      "Epoch 15/15\n",
      "2353/2353 [==============================] - 4s 2ms/step - loss: 0.0792 - accuracy: 0.9769 - val_loss: 0.2058 - val_accuracy: 0.9492\n"
     ]
    },
    {
     "data": {
      "text/plain": [
       "<keras.callbacks.History at 0x1aedad8a6a0>"
      ]
     },
     "execution_count": 27,
     "metadata": {},
     "output_type": "execute_result"
    }
   ],
   "source": [
    "X_train = train_data[\n",
    "    [\"time_index\", \"STATUS\", \"esc_index\"]].values\n",
    "X_valid = test_data[\n",
    "    [\"time_index\", \"STATUS\", \"esc_index\"]].values\n",
    "Y_train = train_data[\"next_status\"].values\n",
    "Y_valid = test_data[\"next_status\"].values\n",
    "\n",
    "lstm_model = build_model()\n",
    "lstm_optim = tf.keras.optimizers.SGD(learning_rate=0.01)\n",
    "\n",
    "lstm_model.compile(\n",
    "    optimizer=lstm_optim, \n",
    "    metrics=\"accuracy\", \n",
    "    loss='sparse_categorical_crossentropy')\n",
    "\n",
    "lstm_model.fit(\n",
    "    X_train, Y_train, epochs=15, \n",
    "    shuffle=True, batch_size=128, \n",
    "    validation_data=((X_valid, Y_valid)))"
   ]
  },
  {
   "cell_type": "markdown",
   "metadata": {},
   "source": [
    "Hyperparameter Tuning of LSTM:\n",
    "\n",
    "Layers: 32, 64, 128\n",
    "\n",
    "Batch Size, 32, 64, 128\n",
    "\n",
    "Learning Rate: 0.001, 0.0001, 0.01\n",
    "\n",
    "Epochs: 10, 15\n",
    "\n",
    "Comparing accuracy and val_accuracy: Layers 32, batch size 128, learning rate 0.01 and epochs 15 provides the best accuracy of 97.69% and val_accuracy of 94.92%."
   ]
  },
  {
   "cell_type": "code",
   "execution_count": 28,
   "metadata": {},
   "outputs": [
    {
     "name": "stdout",
     "output_type": "stream",
     "text": [
      "92/92 [==============================] - 0s 1ms/step\n"
     ]
    }
   ],
   "source": [
    "# Predict test data\n",
    "predictions_lstm = lstm_model.predict(X_valid)\n",
    "pred_status_lstm = tf.argmax(predictions_lstm, axis=1)"
   ]
  },
  {
   "cell_type": "code",
   "execution_count": 29,
   "metadata": {},
   "outputs": [
    {
     "data": {
      "text/plain": [
       "(27, 9)"
      ]
     },
     "execution_count": 29,
     "metadata": {},
     "output_type": "execute_result"
    }
   ],
   "source": [
    "# Identify anomalies indexes, get number of anomalies\n",
    "y_test = test_data['next_status'].values\n",
    "confidence_level = 0.95\n",
    "anomalies_indexes_lstm = calcualte_loss(predictions_lstm,pred_status_lstm,y_test,confidence_level )\n",
    "results_lstm = test_data.copy(deep=True)\n",
    "results_lstm[\"pred_status\"] = pred_status_lstm\n",
    "results_lstm.iloc[anomalies_indexes_lstm].shape"
   ]
  },
  {
   "cell_type": "code",
   "execution_count": 30,
   "metadata": {},
   "outputs": [
    {
     "data": {
      "text/html": [
       "<div>\n",
       "<style scoped>\n",
       "    .dataframe tbody tr th:only-of-type {\n",
       "        vertical-align: middle;\n",
       "    }\n",
       "\n",
       "    .dataframe tbody tr th {\n",
       "        vertical-align: top;\n",
       "    }\n",
       "\n",
       "    .dataframe thead th {\n",
       "        text-align: right;\n",
       "    }\n",
       "</style>\n",
       "<table border=\"1\" class=\"dataframe\">\n",
       "  <thead>\n",
       "    <tr style=\"text-align: right;\">\n",
       "      <th></th>\n",
       "      <th>dttm</th>\n",
       "      <th>ASSETNAME</th>\n",
       "      <th>STATUS</th>\n",
       "      <th>date</th>\n",
       "      <th>time</th>\n",
       "      <th>next_status</th>\n",
       "      <th>pred_status</th>\n",
       "    </tr>\n",
       "  </thead>\n",
       "  <tbody>\n",
       "    <tr>\n",
       "      <th>35</th>\n",
       "      <td>2023-12-01 17:30:00</td>\n",
       "      <td>L&amp;E/BGK/B1/E01</td>\n",
       "      <td>UP</td>\n",
       "      <td>2023-12-01</td>\n",
       "      <td>17:30:00</td>\n",
       "      <td>STOP</td>\n",
       "      <td>UP</td>\n",
       "    </tr>\n",
       "    <tr>\n",
       "      <th>161</th>\n",
       "      <td>2023-12-01 14:00:00</td>\n",
       "      <td>L&amp;E/BGK/B1/E04</td>\n",
       "      <td>UP</td>\n",
       "      <td>2023-12-01</td>\n",
       "      <td>14:00:00</td>\n",
       "      <td>STOP</td>\n",
       "      <td>UP</td>\n",
       "    </tr>\n",
       "    <tr>\n",
       "      <th>189</th>\n",
       "      <td>2023-12-01 06:30:00</td>\n",
       "      <td>L&amp;E/BGK/B2/E01</td>\n",
       "      <td>UP</td>\n",
       "      <td>2023-12-01</td>\n",
       "      <td>06:30:00</td>\n",
       "      <td>STOP</td>\n",
       "      <td>UP</td>\n",
       "    </tr>\n",
       "    <tr>\n",
       "      <th>195</th>\n",
       "      <td>2023-12-01 09:30:00</td>\n",
       "      <td>L&amp;E/BGK/B2/E01</td>\n",
       "      <td>DOWN</td>\n",
       "      <td>2023-12-01</td>\n",
       "      <td>09:30:00</td>\n",
       "      <td>UP</td>\n",
       "      <td>DOWN</td>\n",
       "    </tr>\n",
       "    <tr>\n",
       "      <th>439</th>\n",
       "      <td>2023-12-01 01:00:00</td>\n",
       "      <td>L&amp;E/CNT/B1/E06</td>\n",
       "      <td>STOP</td>\n",
       "      <td>2023-12-01</td>\n",
       "      <td>01:00:00</td>\n",
       "      <td>UP</td>\n",
       "      <td>STOP</td>\n",
       "    </tr>\n",
       "  </tbody>\n",
       "</table>\n",
       "</div>"
      ],
      "text/plain": [
       "                   dttm       ASSETNAME STATUS        date      time next_status pred_status\n",
       "35  2023-12-01 17:30:00  L&E/BGK/B1/E01     UP  2023-12-01  17:30:00        STOP          UP\n",
       "161 2023-12-01 14:00:00  L&E/BGK/B1/E04     UP  2023-12-01  14:00:00        STOP          UP\n",
       "189 2023-12-01 06:30:00  L&E/BGK/B2/E01     UP  2023-12-01  06:30:00        STOP          UP\n",
       "195 2023-12-01 09:30:00  L&E/BGK/B2/E01   DOWN  2023-12-01  09:30:00          UP        DOWN\n",
       "439 2023-12-01 01:00:00  L&E/CNT/B1/E06   STOP  2023-12-01  01:00:00          UP        STOP"
      ]
     },
     "execution_count": 30,
     "metadata": {},
     "output_type": "execute_result"
    }
   ],
   "source": [
    "# Drop cols, decoding, show anomalies (compare next_status with pred_status)\n",
    "results_lstm = results_lstm.drop(columns=[\"time_index\",\"esc_index\"])\n",
    "\n",
    "index_to_status = {value: key for key, value in status_to_index.items()}\n",
    "results_lstm[\"STATUS\"] = [index_to_status[x] for x in results_lstm[\"STATUS\"]]\n",
    "results_lstm[\"next_status\"] = [index_to_status[x] for x in results_lstm[\"next_status\"]]\n",
    "results_lstm[\"pred_status\"] = [index_to_status[x] for x in results_lstm[\"pred_status\"]]\n",
    "\n",
    "results_lstm.iloc[anomalies_indexes_lstm].head()"
   ]
  },
  {
   "cell_type": "markdown",
   "metadata": {},
   "source": [
    "## 7. SimpleRNN"
   ]
  },
  {
   "cell_type": "code",
   "execution_count": 31,
   "metadata": {},
   "outputs": [],
   "source": [
    "def build_rnn_model():\n",
    "    x_input = tf.keras.Input( \n",
    "        shape=(3,1,), dtype=\"int32\", name=\"x_input\")\n",
    "    x_status = tf.keras.layers.Embedding(3, 32)(x_input[:, 1, :])\n",
    "    x_tm_day = tf.keras.layers.Embedding(48, 32)(x_input[:, 0, :])\n",
    "    x_asset  = tf.keras.layers.Embedding(210, 32)(x_input[:, 2, :])\n",
    "    \n",
    "    x_rnn = tf.keras.layers.SimpleRNN(\n",
    "        32, return_sequences=False)(x_status + x_tm_day + x_asset)\n",
    "    \n",
    "    x_logits = tf.keras.layers.Dense(3)(x_rnn) \n",
    "    x_probs  = tf.nn.softmax(x_logits, axis=-1)\n",
    "    return tf.keras.Model(inputs=x_input, outputs=x_probs)"
   ]
  },
  {
   "cell_type": "code",
   "execution_count": 32,
   "metadata": {},
   "outputs": [
    {
     "name": "stdout",
     "output_type": "stream",
     "text": [
      "Epoch 1/15\n",
      "2353/2353 [==============================] - 4s 2ms/step - loss: 0.2085 - accuracy: 0.9491 - val_loss: 0.2643 - val_accuracy: 0.9074\n",
      "Epoch 2/15\n",
      "2353/2353 [==============================] - 3s 1ms/step - loss: 0.0962 - accuracy: 0.9669 - val_loss: 0.2278 - val_accuracy: 0.9221\n",
      "Epoch 3/15\n",
      "2353/2353 [==============================] - 4s 2ms/step - loss: 0.0858 - accuracy: 0.9713 - val_loss: 0.2193 - val_accuracy: 0.9324\n",
      "Epoch 4/15\n",
      "2353/2353 [==============================] - 4s 2ms/step - loss: 0.0828 - accuracy: 0.9739 - val_loss: 0.2158 - val_accuracy: 0.9403\n",
      "Epoch 5/15\n",
      "2353/2353 [==============================] - 4s 2ms/step - loss: 0.0811 - accuracy: 0.9751 - val_loss: 0.2127 - val_accuracy: 0.9431\n",
      "Epoch 6/15\n",
      "2353/2353 [==============================] - 4s 2ms/step - loss: 0.0797 - accuracy: 0.9760 - val_loss: 0.2085 - val_accuracy: 0.9458\n",
      "Epoch 7/15\n",
      "2353/2353 [==============================] - 4s 2ms/step - loss: 0.0785 - accuracy: 0.9764 - val_loss: 0.2064 - val_accuracy: 0.9468\n",
      "Epoch 8/15\n",
      "2353/2353 [==============================] - 4s 2ms/step - loss: 0.0775 - accuracy: 0.9766 - val_loss: 0.2037 - val_accuracy: 0.9465\n",
      "Epoch 9/15\n",
      "2353/2353 [==============================] - 3s 1ms/step - loss: 0.0766 - accuracy: 0.9766 - val_loss: 0.2010 - val_accuracy: 0.9485\n",
      "Epoch 10/15\n",
      "2353/2353 [==============================] - 3s 1ms/step - loss: 0.0757 - accuracy: 0.9769 - val_loss: 0.1992 - val_accuracy: 0.9482\n",
      "Epoch 11/15\n",
      "2353/2353 [==============================] - 4s 2ms/step - loss: 0.0749 - accuracy: 0.9769 - val_loss: 0.1965 - val_accuracy: 0.9492\n",
      "Epoch 12/15\n",
      "2353/2353 [==============================] - 3s 1ms/step - loss: 0.0741 - accuracy: 0.9769 - val_loss: 0.1948 - val_accuracy: 0.9496\n",
      "Epoch 13/15\n",
      "2353/2353 [==============================] - 4s 1ms/step - loss: 0.0734 - accuracy: 0.9769 - val_loss: 0.1922 - val_accuracy: 0.9499\n",
      "Epoch 14/15\n",
      "2353/2353 [==============================] - 4s 2ms/step - loss: 0.0727 - accuracy: 0.9769 - val_loss: 0.1899 - val_accuracy: 0.9506\n",
      "Epoch 15/15\n",
      "2353/2353 [==============================] - 4s 1ms/step - loss: 0.0720 - accuracy: 0.9769 - val_loss: 0.1889 - val_accuracy: 0.9489\n"
     ]
    },
    {
     "data": {
      "text/plain": [
       "<keras.callbacks.History at 0x1af29f3daf0>"
      ]
     },
     "execution_count": 32,
     "metadata": {},
     "output_type": "execute_result"
    }
   ],
   "source": [
    "X_train = train_data[\n",
    "    [\"time_index\", \"STATUS\", \"esc_index\"]].values\n",
    "X_valid = test_data[\n",
    "    [\"time_index\", \"STATUS\", \"esc_index\"]].values\n",
    "Y_train = train_data[\"next_status\"].values\n",
    "Y_valid = test_data[\"next_status\"].values\n",
    "\n",
    "rnn_model = build_rnn_model()\n",
    "rnn_optim = tf.keras.optimizers.SGD(learning_rate=0.01)\n",
    "\n",
    "rnn_model.compile(\n",
    "    optimizer=rnn_optim, \n",
    "    metrics=\"accuracy\", \n",
    "    loss='sparse_categorical_crossentropy')\n",
    "\n",
    "rnn_model.fit(\n",
    "    X_train, Y_train, epochs=15, \n",
    "    shuffle=True, batch_size=128, \n",
    "    validation_data=((X_valid, Y_valid)))"
   ]
  },
  {
   "cell_type": "markdown",
   "metadata": {},
   "source": [
    "Hyperparmeter Tunning of SimpleRNN:\n",
    "\n",
    "Layers: 32, 64, 128\n",
    "\n",
    "Batch Size: 32, 64, 128\n",
    "\n",
    "Learning Rate: 0.001, 0.0001, 0.01\n",
    "\n",
    "Epochs: 10, 15\n",
    "\n",
    "Comparing accuracy and val_accuracy: Layers 32, batch size 128, learning rate 0.01 and epochs 15 provides the best accuracy of 97.69% and val_accuracy of 94.89%."
   ]
  },
  {
   "cell_type": "code",
   "execution_count": 33,
   "metadata": {},
   "outputs": [
    {
     "name": "stdout",
     "output_type": "stream",
     "text": [
      "92/92 [==============================] - 0s 1ms/step\n"
     ]
    }
   ],
   "source": [
    "# Predict test data. #\n",
    "predictions_rnn = rnn_model.predict(X_valid)\n",
    "pred_status_rnn = tf.argmax(predictions_rnn, axis=1)"
   ]
  },
  {
   "cell_type": "code",
   "execution_count": 34,
   "metadata": {},
   "outputs": [
    {
     "data": {
      "text/plain": [
       "(28, 9)"
      ]
     },
     "execution_count": 34,
     "metadata": {},
     "output_type": "execute_result"
    }
   ],
   "source": [
    "# Identify anomalies indexes, get number of anomalies\n",
    "y_test = test_data['next_status'].values\n",
    "confidence_level = 0.95\n",
    "anomalies_indexes_rnn = calcualte_loss(predictions_rnn,pred_status_rnn,y_test,confidence_level )\n",
    "results_rnn = test_data.copy(deep=True)\n",
    "results_rnn[\"pred_status\"] = pred_status_rnn\n",
    "results_rnn.iloc[anomalies_indexes_rnn].shape"
   ]
  },
  {
   "cell_type": "code",
   "execution_count": 35,
   "metadata": {},
   "outputs": [
    {
     "data": {
      "text/html": [
       "<div>\n",
       "<style scoped>\n",
       "    .dataframe tbody tr th:only-of-type {\n",
       "        vertical-align: middle;\n",
       "    }\n",
       "\n",
       "    .dataframe tbody tr th {\n",
       "        vertical-align: top;\n",
       "    }\n",
       "\n",
       "    .dataframe thead th {\n",
       "        text-align: right;\n",
       "    }\n",
       "</style>\n",
       "<table border=\"1\" class=\"dataframe\">\n",
       "  <thead>\n",
       "    <tr style=\"text-align: right;\">\n",
       "      <th></th>\n",
       "      <th>dttm</th>\n",
       "      <th>ASSETNAME</th>\n",
       "      <th>STATUS</th>\n",
       "      <th>date</th>\n",
       "      <th>time</th>\n",
       "      <th>next_status</th>\n",
       "      <th>pred_status</th>\n",
       "    </tr>\n",
       "  </thead>\n",
       "  <tbody>\n",
       "    <tr>\n",
       "      <th>6</th>\n",
       "      <td>2023-12-01 03:00:00</td>\n",
       "      <td>L&amp;E/BGK/B1/E01</td>\n",
       "      <td>STOP</td>\n",
       "      <td>2023-12-01</td>\n",
       "      <td>03:00:00</td>\n",
       "      <td>UP</td>\n",
       "      <td>STOP</td>\n",
       "    </tr>\n",
       "    <tr>\n",
       "      <th>35</th>\n",
       "      <td>2023-12-01 17:30:00</td>\n",
       "      <td>L&amp;E/BGK/B1/E01</td>\n",
       "      <td>UP</td>\n",
       "      <td>2023-12-01</td>\n",
       "      <td>17:30:00</td>\n",
       "      <td>STOP</td>\n",
       "      <td>UP</td>\n",
       "    </tr>\n",
       "    <tr>\n",
       "      <th>51</th>\n",
       "      <td>2023-12-01 03:00:00</td>\n",
       "      <td>L&amp;E/BGK/B1/E02</td>\n",
       "      <td>STOP</td>\n",
       "      <td>2023-12-01</td>\n",
       "      <td>03:00:00</td>\n",
       "      <td>DOWN</td>\n",
       "      <td>STOP</td>\n",
       "    </tr>\n",
       "    <tr>\n",
       "      <th>161</th>\n",
       "      <td>2023-12-01 14:00:00</td>\n",
       "      <td>L&amp;E/BGK/B1/E04</td>\n",
       "      <td>UP</td>\n",
       "      <td>2023-12-01</td>\n",
       "      <td>14:00:00</td>\n",
       "      <td>STOP</td>\n",
       "      <td>UP</td>\n",
       "    </tr>\n",
       "    <tr>\n",
       "      <th>189</th>\n",
       "      <td>2023-12-01 06:30:00</td>\n",
       "      <td>L&amp;E/BGK/B2/E01</td>\n",
       "      <td>UP</td>\n",
       "      <td>2023-12-01</td>\n",
       "      <td>06:30:00</td>\n",
       "      <td>STOP</td>\n",
       "      <td>UP</td>\n",
       "    </tr>\n",
       "  </tbody>\n",
       "</table>\n",
       "</div>"
      ],
      "text/plain": [
       "                   dttm       ASSETNAME STATUS        date      time next_status pred_status\n",
       "6   2023-12-01 03:00:00  L&E/BGK/B1/E01   STOP  2023-12-01  03:00:00          UP        STOP\n",
       "35  2023-12-01 17:30:00  L&E/BGK/B1/E01     UP  2023-12-01  17:30:00        STOP          UP\n",
       "51  2023-12-01 03:00:00  L&E/BGK/B1/E02   STOP  2023-12-01  03:00:00        DOWN        STOP\n",
       "161 2023-12-01 14:00:00  L&E/BGK/B1/E04     UP  2023-12-01  14:00:00        STOP          UP\n",
       "189 2023-12-01 06:30:00  L&E/BGK/B2/E01     UP  2023-12-01  06:30:00        STOP          UP"
      ]
     },
     "execution_count": 35,
     "metadata": {},
     "output_type": "execute_result"
    }
   ],
   "source": [
    "# Drop cols, decoding, show anomalies (compare next_status with pred_status)\n",
    "results_rnn = results_rnn.drop(columns=[\"time_index\",\"esc_index\"])\n",
    "\n",
    "index_to_status = {value: key for key, value in status_to_index.items()}\n",
    "results_rnn[\"STATUS\"] = [index_to_status[x] for x in results_rnn[\"STATUS\"]]\n",
    "results_rnn[\"next_status\"] = [index_to_status[x] for x in results_rnn[\"next_status\"]]\n",
    "results_rnn[\"pred_status\"] = [index_to_status[x] for x in results_rnn[\"pred_status\"]]\n",
    "\n",
    "results_rnn.iloc[anomalies_indexes_rnn].head()"
   ]
  },
  {
   "cell_type": "markdown",
   "metadata": {},
   "source": [
    "## 8. Results"
   ]
  },
  {
   "cell_type": "markdown",
   "metadata": {},
   "source": [
    "LSTM Performance: accuracy: 97.69%, val_accuracy: 94.92%\n",
    "\n",
    "SimpleRNN Performance: accuracy: 97.69%, val_accuracy: 94.89%\n",
    "\n",
    "Best Model: LSTM as LSTM val_accuracy is higher than SimpleRNN val_accuracy"
   ]
  },
  {
   "cell_type": "code",
   "execution_count": 36,
   "metadata": {},
   "outputs": [],
   "source": [
    "# Save file\n",
    "results_lstm.to_csv('Anomalies_lstm.csv')"
   ]
  },
  {
   "cell_type": "code",
   "execution_count": 37,
   "metadata": {},
   "outputs": [],
   "source": [
    "#save model\n",
    "lstm_model.save('lstm_model.h5')"
   ]
  },
  {
   "cell_type": "code",
   "execution_count": 38,
   "metadata": {},
   "outputs": [],
   "source": [
    "# #load model and predict\n",
    "# loaded_model_lstm = load_model('lstm_model.h5')\n",
    "# predictions_lstm = loaded_model_lstm.predict(X_valid)\n",
    "# pred_status_lstm = tf.argmax(predictions_lstm, axis=1)\n",
    "# pred_status_lstm"
   ]
  }
 ],
 "metadata": {
  "kernelspec": {
   "display_name": "cq",
   "language": "python",
   "name": "python3"
  },
  "language_info": {
   "codemirror_mode": {
    "name": "ipython",
    "version": 3
   },
   "file_extension": ".py",
   "mimetype": "text/x-python",
   "name": "python",
   "nbconvert_exporter": "python",
   "pygments_lexer": "ipython3",
   "version": "3.8.20"
  }
 },
 "nbformat": 4,
 "nbformat_minor": 2
}
