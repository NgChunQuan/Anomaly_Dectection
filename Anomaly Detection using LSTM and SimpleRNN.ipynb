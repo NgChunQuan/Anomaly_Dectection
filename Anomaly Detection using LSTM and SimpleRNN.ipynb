{
 "cells": [
  {
   "cell_type": "markdown",
   "metadata": {},
   "source": [
    "## 1. Libraries"
   ]
  },
  {
   "cell_type": "code",
   "execution_count": 1,
   "metadata": {},
   "outputs": [],
   "source": [
    "import numpy as np\n",
    "import pandas as pd\n",
    "import tensorflow as tf\n",
    "from tensorflow.keras.models import load_model\n",
    "\n",
    "from sklearn.model_selection import train_test_split \n",
    "from sklearn.preprocessing import LabelEncoder\n",
    "import pickle"
   ]
  },
  {
   "cell_type": "code",
   "execution_count": 2,
   "metadata": {},
   "outputs": [],
   "source": [
    "pd.set_option('display.max_rows', 1000); pd.set_option('display.max_columns', 1000); pd.set_option('display.width', 1000)"
   ]
  },
  {
   "attachments": {},
   "cell_type": "markdown",
   "metadata": {},
   "source": [
    "## 2. Functions"
   ]
  },
  {
   "cell_type": "code",
   "execution_count": 3,
   "metadata": {},
   "outputs": [],
   "source": [
    "# Flag anomalies with confidence level \n",
    "def calcualte_loss (predictions, pred_status, y_test, confidence_level):\n",
    "    max_prob = np.max(predictions, axis=1)\n",
    "    anomalies = (pred_status != y_test) & (max_prob > confidence_level)\n",
    "    indexes = np.where(anomalies)\n",
    "    return indexes"
   ]
  },
  {
   "cell_type": "markdown",
   "metadata": {},
   "source": [
    "## 3. Data Preprocessing"
   ]
  },
  {
   "cell_type": "markdown",
   "metadata": {},
   "source": [
    "### a. Load Datasets"
   ]
  },
  {
   "cell_type": "code",
   "execution_count": 4,
   "metadata": {},
   "outputs": [
    {
     "name": "stderr",
     "output_type": "stream",
     "text": [
      "C:\\Users\\Chun Quan\\AppData\\Local\\Temp\\ipykernel_17508\\3670644652.py:2: DtypeWarning: Columns (21,22,23,24,25,28) have mixed types. Specify dtype option on import or set low_memory=False.\n",
      "  tmp = pd.read_csv(\"hisevents_nov_2023.csv\")\n"
     ]
    }
   ],
   "source": [
    "# Load dataset\n",
    "tmp = pd.read_csv(\"hisevents_nov_2023.csv\")"
   ]
  },
  {
   "cell_type": "markdown",
   "metadata": {},
   "source": [
    "The warning indicates that columns (21, 22, 23, 24, 25, and 28) contain mixed data types. We should examine the unique values in these columns to better understand the data types and update them accordingly."
   ]
  },
  {
   "cell_type": "code",
   "execution_count": 5,
   "metadata": {},
   "outputs": [
    {
     "data": {
      "text/plain": [
       "array([nan, 'C760', 'C751A'], dtype=object)"
      ]
     },
     "execution_count": 5,
     "metadata": {},
     "output_type": "execute_result"
    }
   ],
   "source": [
    "# Examine the unique values in the col\n",
    "tmp.iloc[:,28].unique()"
   ]
  },
  {
   "cell_type": "markdown",
   "metadata": {},
   "source": [
    "Since all of these columns are in string format, we will update them to have the str datatype."
   ]
  },
  {
   "cell_type": "code",
   "execution_count": 6,
   "metadata": {},
   "outputs": [],
   "source": [
    "# Update col datatype in df\n",
    "tmp.iloc[:,21]=tmp.iloc[:,21].astype(str)\n",
    "tmp.iloc[:,22]=tmp.iloc[:,22].astype(str)\n",
    "tmp.iloc[:,23]=tmp.iloc[:,23].astype(str)\n",
    "tmp.iloc[:,24]=tmp.iloc[:,24].astype(str)\n",
    "tmp.iloc[:,25]=tmp.iloc[:,25].astype(str)\n",
    "tmp.iloc[:,28]=tmp.iloc[:,28].astype(str)"
   ]
  },
  {
   "cell_type": "markdown",
   "metadata": {},
   "source": [
    "### b. Extract Escalator Dataset "
   ]
  },
  {
   "cell_type": "code",
   "execution_count": 7,
   "metadata": {},
   "outputs": [],
   "source": [
    "# Filter MESSAGE that contains Escalator: Operating Status, ASSETNAME that contains L&E/.../../E..\n",
    "tmp = tmp[(tmp['MESSAGE']=='Escalator: Operating Status') & (tmp['ASSETNAME'].str.match(r'L&E/[A-Z]{3}/\\w{1}\\d{1}/E\\d{2}'))][['ASSETNAME','STATUS','dttm']].reset_index(drop=True)\n",
    "tmp['dttm']=pd.to_datetime(tmp['dttm'])"
   ]
  },
  {
   "cell_type": "markdown",
   "metadata": {},
   "source": [
    "### c. EDA"
   ]
  },
  {
   "cell_type": "code",
   "execution_count": 8,
   "metadata": {},
   "outputs": [
    {
     "name": "stdout",
     "output_type": "stream",
     "text": [
      "<class 'pandas.core.frame.DataFrame'>\n",
      "RangeIndex: 57699 entries, 0 to 57698\n",
      "Data columns (total 3 columns):\n",
      " #   Column     Non-Null Count  Dtype         \n",
      "---  ------     --------------  -----         \n",
      " 0   ASSETNAME  57699 non-null  object        \n",
      " 1   STATUS     57699 non-null  object        \n",
      " 2   dttm       57699 non-null  datetime64[ns]\n",
      "dtypes: datetime64[ns](1), object(2)\n",
      "memory usage: 1.3+ MB\n"
     ]
    }
   ],
   "source": [
    "# Check for Missing Data\n",
    "tmp.info()"
   ]
  },
  {
   "cell_type": "code",
   "execution_count": 9,
   "metadata": {},
   "outputs": [
    {
     "data": {
      "text/html": [
       "<div>\n",
       "<style scoped>\n",
       "    .dataframe tbody tr th:only-of-type {\n",
       "        vertical-align: middle;\n",
       "    }\n",
       "\n",
       "    .dataframe tbody tr th {\n",
       "        vertical-align: top;\n",
       "    }\n",
       "\n",
       "    .dataframe thead th {\n",
       "        text-align: right;\n",
       "    }\n",
       "</style>\n",
       "<table border=\"1\" class=\"dataframe\">\n",
       "  <thead>\n",
       "    <tr style=\"text-align: right;\">\n",
       "      <th></th>\n",
       "      <th>ASSETNAME</th>\n",
       "      <th>STATUS</th>\n",
       "      <th>dttm</th>\n",
       "    </tr>\n",
       "  </thead>\n",
       "  <tbody>\n",
       "    <tr>\n",
       "      <th>25963</th>\n",
       "      <td>L&amp;E/WLH/B1/E04</td>\n",
       "      <td>STOP</td>\n",
       "      <td>2023-11-15 05:17:46</td>\n",
       "    </tr>\n",
       "    <tr>\n",
       "      <th>16948</th>\n",
       "      <td>L&amp;E/BNK/B1/E06</td>\n",
       "      <td>DOWN</td>\n",
       "      <td>2023-11-10 05:51:38</td>\n",
       "    </tr>\n",
       "    <tr>\n",
       "      <th>2898</th>\n",
       "      <td>L&amp;E/SKG/O2/E01</td>\n",
       "      <td>UP</td>\n",
       "      <td>2023-11-02 12:25:55</td>\n",
       "    </tr>\n",
       "  </tbody>\n",
       "</table>\n",
       "</div>"
      ],
      "text/plain": [
       "            ASSETNAME STATUS                dttm\n",
       "25963  L&E/WLH/B1/E04   STOP 2023-11-15 05:17:46\n",
       "16948  L&E/BNK/B1/E06   DOWN 2023-11-10 05:51:38\n",
       "2898   L&E/SKG/O2/E01     UP 2023-11-02 12:25:55"
      ]
     },
     "execution_count": 9,
     "metadata": {},
     "output_type": "execute_result"
    }
   ],
   "source": [
    "tmp.sample(3)"
   ]
  },
  {
   "cell_type": "markdown",
   "metadata": {},
   "source": [
    "### d. Group by 30 Minute Frequency"
   ]
  },
  {
   "cell_type": "code",
   "execution_count": 10,
   "metadata": {},
   "outputs": [],
   "source": [
    "# Reshape to 30 mintue frequency, count status\n",
    "grouped_30 = tmp.groupby(\n",
    "    ['ASSETNAME', pd.Grouper(\n",
    "        key='dttm', freq='30T')]).apply(lambda x: pd.Series({\n",
    "   'status_count': x['STATUS'].isin(['STOP', 'UP', 'DOWN']).sum(),\n",
    "   'STATUS': x['STATUS'].tolist()\n",
    "})).reset_index()"
   ]
  },
  {
   "cell_type": "code",
   "execution_count": 11,
   "metadata": {},
   "outputs": [],
   "source": [
    "# Convert to datetime format, create a col for date and time\n",
    "grouped_30['dttm']=pd.to_datetime(grouped_30['dttm'])\n",
    "grouped_30['date']=grouped_30['dttm'].dt.date\n",
    "grouped_30['time']=grouped_30['dttm'].dt.time"
   ]
  },
  {
   "cell_type": "code",
   "execution_count": 12,
   "metadata": {},
   "outputs": [
    {
     "data": {
      "text/html": [
       "<div>\n",
       "<style scoped>\n",
       "    .dataframe tbody tr th:only-of-type {\n",
       "        vertical-align: middle;\n",
       "    }\n",
       "\n",
       "    .dataframe tbody tr th {\n",
       "        vertical-align: top;\n",
       "    }\n",
       "\n",
       "    .dataframe thead th {\n",
       "        text-align: right;\n",
       "    }\n",
       "</style>\n",
       "<table border=\"1\" class=\"dataframe\">\n",
       "  <thead>\n",
       "    <tr style=\"text-align: right;\">\n",
       "      <th></th>\n",
       "      <th>ASSETNAME</th>\n",
       "      <th>dttm</th>\n",
       "      <th>status_count</th>\n",
       "      <th>STATUS</th>\n",
       "      <th>date</th>\n",
       "      <th>time</th>\n",
       "    </tr>\n",
       "  </thead>\n",
       "  <tbody>\n",
       "    <tr>\n",
       "      <th>30021</th>\n",
       "      <td>L&amp;E/WLH/B2/E01</td>\n",
       "      <td>2023-11-21 04:00:00</td>\n",
       "      <td>1</td>\n",
       "      <td>[DOWN]</td>\n",
       "      <td>2023-11-21</td>\n",
       "      <td>04:00:00</td>\n",
       "    </tr>\n",
       "    <tr>\n",
       "      <th>10277</th>\n",
       "      <td>L&amp;E/DBG/B3/E04</td>\n",
       "      <td>2023-11-15 00:30:00</td>\n",
       "      <td>1</td>\n",
       "      <td>[STOP]</td>\n",
       "      <td>2023-11-15</td>\n",
       "      <td>00:30:00</td>\n",
       "    </tr>\n",
       "    <tr>\n",
       "      <th>19413</th>\n",
       "      <td>L&amp;E/OTP/B1/E08</td>\n",
       "      <td>2023-11-01 00:00:00</td>\n",
       "      <td>1</td>\n",
       "      <td>[STOP]</td>\n",
       "      <td>2023-11-01</td>\n",
       "      <td>00:00:00</td>\n",
       "    </tr>\n",
       "  </tbody>\n",
       "</table>\n",
       "</div>"
      ],
      "text/plain": [
       "            ASSETNAME                dttm  status_count  STATUS        date      time\n",
       "30021  L&E/WLH/B2/E01 2023-11-21 04:00:00             1  [DOWN]  2023-11-21  04:00:00\n",
       "10277  L&E/DBG/B3/E04 2023-11-15 00:30:00             1  [STOP]  2023-11-15  00:30:00\n",
       "19413  L&E/OTP/B1/E08 2023-11-01 00:00:00             1  [STOP]  2023-11-01  00:00:00"
      ]
     },
     "execution_count": 12,
     "metadata": {},
     "output_type": "execute_result"
    }
   ],
   "source": [
    "grouped_30.sample(3)"
   ]
  },
  {
   "cell_type": "code",
   "execution_count": 13,
   "metadata": {},
   "outputs": [],
   "source": [
    "# Keep the last index of STATUS for length of status > 1\n",
    "grouped = grouped_30.copy(deep=True)\n",
    "for index, row in grouped.iterrows():\n",
    "    if row['status_count'] > 1:\n",
    "        grouped.loc[index,'STATUS'] = row['STATUS'][-1]\n",
    "\n",
    "grouped.drop(columns='status_count', inplace=True)\n",
    "\n",
    "# Remove list datatype in STATUS col\n",
    "grouped= grouped.explode('STATUS')"
   ]
  },
  {
   "cell_type": "code",
   "execution_count": 14,
   "metadata": {},
   "outputs": [
    {
     "data": {
      "text/html": [
       "<div>\n",
       "<style scoped>\n",
       "    .dataframe tbody tr th:only-of-type {\n",
       "        vertical-align: middle;\n",
       "    }\n",
       "\n",
       "    .dataframe tbody tr th {\n",
       "        vertical-align: top;\n",
       "    }\n",
       "\n",
       "    .dataframe thead th {\n",
       "        text-align: right;\n",
       "    }\n",
       "</style>\n",
       "<table border=\"1\" class=\"dataframe\">\n",
       "  <thead>\n",
       "    <tr style=\"text-align: right;\">\n",
       "      <th></th>\n",
       "      <th>ASSETNAME</th>\n",
       "      <th>dttm</th>\n",
       "      <th>STATUS</th>\n",
       "      <th>date</th>\n",
       "      <th>time</th>\n",
       "    </tr>\n",
       "  </thead>\n",
       "  <tbody>\n",
       "    <tr>\n",
       "      <th>12891</th>\n",
       "      <td>L&amp;E/FRP/B2/E01</td>\n",
       "      <td>2023-11-23 00:00:00</td>\n",
       "      <td>STOP</td>\n",
       "      <td>2023-11-23</td>\n",
       "      <td>00:00:00</td>\n",
       "    </tr>\n",
       "    <tr>\n",
       "      <th>18698</th>\n",
       "      <td>L&amp;E/OTP/B1/E02</td>\n",
       "      <td>2023-11-01 00:00:00</td>\n",
       "      <td>STOP</td>\n",
       "      <td>2023-11-01</td>\n",
       "      <td>00:00:00</td>\n",
       "    </tr>\n",
       "    <tr>\n",
       "      <th>780</th>\n",
       "      <td>L&amp;E/BGK/B1/E02</td>\n",
       "      <td>2023-11-09 11:00:00</td>\n",
       "      <td>UP</td>\n",
       "      <td>2023-11-09</td>\n",
       "      <td>11:00:00</td>\n",
       "    </tr>\n",
       "  </tbody>\n",
       "</table>\n",
       "</div>"
      ],
      "text/plain": [
       "            ASSETNAME                dttm STATUS        date      time\n",
       "12891  L&E/FRP/B2/E01 2023-11-23 00:00:00   STOP  2023-11-23  00:00:00\n",
       "18698  L&E/OTP/B1/E02 2023-11-01 00:00:00   STOP  2023-11-01  00:00:00\n",
       "780    L&E/BGK/B1/E02 2023-11-09 11:00:00     UP  2023-11-09  11:00:00"
      ]
     },
     "execution_count": 14,
     "metadata": {},
     "output_type": "execute_result"
    }
   ],
   "source": [
    "grouped.sample(3)"
   ]
  },
  {
   "cell_type": "code",
   "execution_count": 15,
   "metadata": {},
   "outputs": [],
   "source": [
    "# Extend data to include missing 30 minute interval, fill in missing values\n",
    "tmp_grouped = grouped.groupby('ASSETNAME')\n",
    "\n",
    "tmp_list = []\n",
    "for index, data in tmp_grouped:\n",
    "   grouped_df = data.set_index('dttm').resample('30T').ffill()\n",
    "   grouped_df = grouped_df.reset_index()\n",
    "   grouped_df['time'] = grouped_df['dttm'].dt.time\n",
    "   grouped_df['date'] = grouped_df['dttm'].dt.date\n",
    "   \n",
    "   grouped_df  = grouped_df.sort_values(by=\"dttm\", ascending=True)\n",
    "\n",
    "   next_status = [\n",
    "      grouped_df.iloc[x+1][\"STATUS\"] for x in range(len(grouped_df)-1)]\n",
    "   next_status += [None] # Last value in list set to None\n",
    "   \n",
    "   # Append the grouped dataframes\n",
    "   grouped_df[\"next_status\"] = next_status\n",
    "   tmp_list.append(grouped_df.iloc[:-1]) # Except last row\n",
    "\n",
    "# Concatenate the dataframes\n",
    "grouped_df = pd.concat(tmp_list).reset_index(drop=True)"
   ]
  },
  {
   "cell_type": "code",
   "execution_count": 16,
   "metadata": {},
   "outputs": [
    {
     "data": {
      "text/html": [
       "<div>\n",
       "<style scoped>\n",
       "    .dataframe tbody tr th:only-of-type {\n",
       "        vertical-align: middle;\n",
       "    }\n",
       "\n",
       "    .dataframe tbody tr th {\n",
       "        vertical-align: top;\n",
       "    }\n",
       "\n",
       "    .dataframe thead th {\n",
       "        text-align: right;\n",
       "    }\n",
       "</style>\n",
       "<table border=\"1\" class=\"dataframe\">\n",
       "  <thead>\n",
       "    <tr style=\"text-align: right;\">\n",
       "      <th></th>\n",
       "      <th>dttm</th>\n",
       "      <th>ASSETNAME</th>\n",
       "      <th>STATUS</th>\n",
       "      <th>date</th>\n",
       "      <th>time</th>\n",
       "      <th>next_status</th>\n",
       "    </tr>\n",
       "  </thead>\n",
       "  <tbody>\n",
       "    <tr>\n",
       "      <th>0</th>\n",
       "      <td>2023-11-01 00:00:00</td>\n",
       "      <td>L&amp;E/BGK/B1/E01</td>\n",
       "      <td>STOP</td>\n",
       "      <td>2023-11-01</td>\n",
       "      <td>00:00:00</td>\n",
       "      <td>STOP</td>\n",
       "    </tr>\n",
       "    <tr>\n",
       "      <th>1</th>\n",
       "      <td>2023-11-01 00:30:00</td>\n",
       "      <td>L&amp;E/BGK/B1/E01</td>\n",
       "      <td>STOP</td>\n",
       "      <td>2023-11-01</td>\n",
       "      <td>00:30:00</td>\n",
       "      <td>STOP</td>\n",
       "    </tr>\n",
       "    <tr>\n",
       "      <th>2</th>\n",
       "      <td>2023-11-01 01:00:00</td>\n",
       "      <td>L&amp;E/BGK/B1/E01</td>\n",
       "      <td>STOP</td>\n",
       "      <td>2023-11-01</td>\n",
       "      <td>01:00:00</td>\n",
       "      <td>STOP</td>\n",
       "    </tr>\n",
       "  </tbody>\n",
       "</table>\n",
       "</div>"
      ],
      "text/plain": [
       "                 dttm       ASSETNAME STATUS        date      time next_status\n",
       "0 2023-11-01 00:00:00  L&E/BGK/B1/E01   STOP  2023-11-01  00:00:00        STOP\n",
       "1 2023-11-01 00:30:00  L&E/BGK/B1/E01   STOP  2023-11-01  00:30:00        STOP\n",
       "2 2023-11-01 01:00:00  L&E/BGK/B1/E01   STOP  2023-11-01  01:00:00        STOP"
      ]
     },
     "execution_count": 16,
     "metadata": {},
     "output_type": "execute_result"
    }
   ],
   "source": [
    "grouped_df.head(3)"
   ]
  },
  {
   "cell_type": "markdown",
   "metadata": {},
   "source": [
    "## 4. Train Test Split"
   ]
  },
  {
   "cell_type": "markdown",
   "metadata": {},
   "source": [
    "Training data: all except 01-12-2023 data"
   ]
  },
  {
   "cell_type": "code",
   "execution_count": 17,
   "metadata": {},
   "outputs": [],
   "source": [
    "train_data= grouped_df[pd.to_datetime(grouped_df['date']) != '2023-12-01'].reset_index(drop=True)"
   ]
  },
  {
   "cell_type": "code",
   "execution_count": 18,
   "metadata": {},
   "outputs": [
    {
     "data": {
      "text/html": [
       "<div>\n",
       "<style scoped>\n",
       "    .dataframe tbody tr th:only-of-type {\n",
       "        vertical-align: middle;\n",
       "    }\n",
       "\n",
       "    .dataframe tbody tr th {\n",
       "        vertical-align: top;\n",
       "    }\n",
       "\n",
       "    .dataframe thead th {\n",
       "        text-align: right;\n",
       "    }\n",
       "</style>\n",
       "<table border=\"1\" class=\"dataframe\">\n",
       "  <thead>\n",
       "    <tr style=\"text-align: right;\">\n",
       "      <th></th>\n",
       "      <th>dttm</th>\n",
       "      <th>ASSETNAME</th>\n",
       "      <th>STATUS</th>\n",
       "      <th>date</th>\n",
       "      <th>time</th>\n",
       "      <th>next_status</th>\n",
       "    </tr>\n",
       "  </thead>\n",
       "  <tbody>\n",
       "    <tr>\n",
       "      <th>0</th>\n",
       "      <td>2023-11-01 00:00:00</td>\n",
       "      <td>L&amp;E/BGK/B1/E01</td>\n",
       "      <td>STOP</td>\n",
       "      <td>2023-11-01</td>\n",
       "      <td>00:00:00</td>\n",
       "      <td>STOP</td>\n",
       "    </tr>\n",
       "    <tr>\n",
       "      <th>1</th>\n",
       "      <td>2023-11-01 00:30:00</td>\n",
       "      <td>L&amp;E/BGK/B1/E01</td>\n",
       "      <td>STOP</td>\n",
       "      <td>2023-11-01</td>\n",
       "      <td>00:30:00</td>\n",
       "      <td>STOP</td>\n",
       "    </tr>\n",
       "    <tr>\n",
       "      <th>2</th>\n",
       "      <td>2023-11-01 01:00:00</td>\n",
       "      <td>L&amp;E/BGK/B1/E01</td>\n",
       "      <td>STOP</td>\n",
       "      <td>2023-11-01</td>\n",
       "      <td>01:00:00</td>\n",
       "      <td>STOP</td>\n",
       "    </tr>\n",
       "  </tbody>\n",
       "</table>\n",
       "</div>"
      ],
      "text/plain": [
       "                 dttm       ASSETNAME STATUS        date      time next_status\n",
       "0 2023-11-01 00:00:00  L&E/BGK/B1/E01   STOP  2023-11-01  00:00:00        STOP\n",
       "1 2023-11-01 00:30:00  L&E/BGK/B1/E01   STOP  2023-11-01  00:30:00        STOP\n",
       "2 2023-11-01 01:00:00  L&E/BGK/B1/E01   STOP  2023-11-01  01:00:00        STOP"
      ]
     },
     "execution_count": 18,
     "metadata": {},
     "output_type": "execute_result"
    }
   ],
   "source": [
    "train_data.head(3)"
   ]
  },
  {
   "cell_type": "markdown",
   "metadata": {},
   "source": [
    "Testing data: 01-12-2023 data"
   ]
  },
  {
   "cell_type": "code",
   "execution_count": 19,
   "metadata": {},
   "outputs": [],
   "source": [
    "test_data = grouped_df[pd.to_datetime(grouped_df['date']) == pd.to_datetime('2023-12-01')].reset_index(drop=True)"
   ]
  },
  {
   "cell_type": "code",
   "execution_count": 20,
   "metadata": {},
   "outputs": [
    {
     "data": {
      "text/html": [
       "<div>\n",
       "<style scoped>\n",
       "    .dataframe tbody tr th:only-of-type {\n",
       "        vertical-align: middle;\n",
       "    }\n",
       "\n",
       "    .dataframe tbody tr th {\n",
       "        vertical-align: top;\n",
       "    }\n",
       "\n",
       "    .dataframe thead th {\n",
       "        text-align: right;\n",
       "    }\n",
       "</style>\n",
       "<table border=\"1\" class=\"dataframe\">\n",
       "  <thead>\n",
       "    <tr style=\"text-align: right;\">\n",
       "      <th></th>\n",
       "      <th>dttm</th>\n",
       "      <th>ASSETNAME</th>\n",
       "      <th>STATUS</th>\n",
       "      <th>date</th>\n",
       "      <th>time</th>\n",
       "      <th>next_status</th>\n",
       "    </tr>\n",
       "  </thead>\n",
       "  <tbody>\n",
       "    <tr>\n",
       "      <th>0</th>\n",
       "      <td>2023-12-01 00:00:00</td>\n",
       "      <td>L&amp;E/BGK/B1/E01</td>\n",
       "      <td>UP</td>\n",
       "      <td>2023-12-01</td>\n",
       "      <td>00:00:00</td>\n",
       "      <td>STOP</td>\n",
       "    </tr>\n",
       "    <tr>\n",
       "      <th>1</th>\n",
       "      <td>2023-12-01 00:30:00</td>\n",
       "      <td>L&amp;E/BGK/B1/E01</td>\n",
       "      <td>STOP</td>\n",
       "      <td>2023-12-01</td>\n",
       "      <td>00:30:00</td>\n",
       "      <td>STOP</td>\n",
       "    </tr>\n",
       "    <tr>\n",
       "      <th>2</th>\n",
       "      <td>2023-12-01 01:00:00</td>\n",
       "      <td>L&amp;E/BGK/B1/E01</td>\n",
       "      <td>STOP</td>\n",
       "      <td>2023-12-01</td>\n",
       "      <td>01:00:00</td>\n",
       "      <td>STOP</td>\n",
       "    </tr>\n",
       "  </tbody>\n",
       "</table>\n",
       "</div>"
      ],
      "text/plain": [
       "                 dttm       ASSETNAME STATUS        date      time next_status\n",
       "0 2023-12-01 00:00:00  L&E/BGK/B1/E01     UP  2023-12-01  00:00:00        STOP\n",
       "1 2023-12-01 00:30:00  L&E/BGK/B1/E01   STOP  2023-12-01  00:30:00        STOP\n",
       "2 2023-12-01 01:00:00  L&E/BGK/B1/E01   STOP  2023-12-01  01:00:00        STOP"
      ]
     },
     "execution_count": 20,
     "metadata": {},
     "output_type": "execute_result"
    }
   ],
   "source": [
    "test_data.head(3)"
   ]
  },
  {
   "cell_type": "markdown",
   "metadata": {},
   "source": [
    "## 5. Data Preprocessing for LSTM/ SimpleRNN"
   ]
  },
  {
   "cell_type": "code",
   "execution_count": 21,
   "metadata": {},
   "outputs": [],
   "source": [
    "# Label Encoding\n",
    "status_to_index = {'STOP': 0,'UP': 1,'DOWN': 2}\n",
    "\n",
    "train_data[\"STATUS\"] = [\n",
    "    status_to_index[x] for x in list(train_data[\"STATUS\"].values)]\n",
    "\n",
    "test_data[\"STATUS\"] = [\n",
    "    status_to_index[x] for x in list(test_data[\"STATUS\"].values)]\n",
    "\n",
    "train_data[\"next_status\"] = [\n",
    "    status_to_index[x] for x in list(train_data[\"next_status\"].values)]\n",
    "\n",
    "test_data[\"next_status\"] = [\n",
    "    status_to_index[x] for x in list(test_data[\"next_status\"].values)]\n",
    "\n",
    "# Time Encoding\n",
    "time_interval = list(sorted(list(pd.unique(train_data[\"time\"]))))\n",
    "time_to_index = dict([\n",
    "    (time_interval[x], x) for x in range(len(time_interval))])\n",
    "\n",
    "# Each time is assigned to an index\n",
    "train_data[\"time_index\"] = [\n",
    "    time_to_index[x] for x in list(train_data[\"time\"].values)]\n",
    "test_data[\"time_index\"] = [\n",
    "    time_to_index[x] for x in list(test_data[\"time\"].values)]\n",
    "\n",
    "# Escalator Encoding\n",
    "asset_names  = list(\n",
    "    sorted(list(pd.unique(train_data[\"ASSETNAME\"]))))\n",
    "esc_to_index = dict([\n",
    "    (asset_names[x], x) for x in range(len(asset_names))])\n",
    "\n",
    "# Each assetname is assgined to an index\n",
    "train_data[\"esc_index\"] = [\n",
    "    esc_to_index[x] for x in list(train_data[\"ASSETNAME\"].values)]\n",
    "test_data[\"esc_index\"] = [\n",
    "    esc_to_index[x] for x in list(test_data[\"ASSETNAME\"].values)]"
   ]
  },
  {
   "cell_type": "code",
   "execution_count": 22,
   "metadata": {},
   "outputs": [
    {
     "data": {
      "text/html": [
       "<div>\n",
       "<style scoped>\n",
       "    .dataframe tbody tr th:only-of-type {\n",
       "        vertical-align: middle;\n",
       "    }\n",
       "\n",
       "    .dataframe tbody tr th {\n",
       "        vertical-align: top;\n",
       "    }\n",
       "\n",
       "    .dataframe thead th {\n",
       "        text-align: right;\n",
       "    }\n",
       "</style>\n",
       "<table border=\"1\" class=\"dataframe\">\n",
       "  <thead>\n",
       "    <tr style=\"text-align: right;\">\n",
       "      <th></th>\n",
       "      <th>dttm</th>\n",
       "      <th>ASSETNAME</th>\n",
       "      <th>STATUS</th>\n",
       "      <th>date</th>\n",
       "      <th>time</th>\n",
       "      <th>next_status</th>\n",
       "      <th>time_index</th>\n",
       "      <th>esc_index</th>\n",
       "    </tr>\n",
       "  </thead>\n",
       "  <tbody>\n",
       "    <tr>\n",
       "      <th>298738</th>\n",
       "      <td>2023-11-11 05:30:00</td>\n",
       "      <td>L&amp;E/WLH/B2/E02</td>\n",
       "      <td>2</td>\n",
       "      <td>2023-11-11</td>\n",
       "      <td>05:30:00</td>\n",
       "      <td>2</td>\n",
       "      <td>11</td>\n",
       "      <td>208</td>\n",
       "    </tr>\n",
       "    <tr>\n",
       "      <th>193105</th>\n",
       "      <td>2023-11-05 08:00:00</td>\n",
       "      <td>L&amp;E/OTP/B1/E02</td>\n",
       "      <td>2</td>\n",
       "      <td>2023-11-05</td>\n",
       "      <td>08:00:00</td>\n",
       "      <td>2</td>\n",
       "      <td>16</td>\n",
       "      <td>134</td>\n",
       "    </tr>\n",
       "    <tr>\n",
       "      <th>14927</th>\n",
       "      <td>2023-11-12 00:30:00</td>\n",
       "      <td>L&amp;E/BNK/B1/E04</td>\n",
       "      <td>0</td>\n",
       "      <td>2023-11-12</td>\n",
       "      <td>00:30:00</td>\n",
       "      <td>0</td>\n",
       "      <td>1</td>\n",
       "      <td>10</td>\n",
       "    </tr>\n",
       "  </tbody>\n",
       "</table>\n",
       "</div>"
      ],
      "text/plain": [
       "                      dttm       ASSETNAME  STATUS        date      time  next_status  time_index  esc_index\n",
       "298738 2023-11-11 05:30:00  L&E/WLH/B2/E02       2  2023-11-11  05:30:00            2          11        208\n",
       "193105 2023-11-05 08:00:00  L&E/OTP/B1/E02       2  2023-11-05  08:00:00            2          16        134\n",
       "14927  2023-11-12 00:30:00  L&E/BNK/B1/E04       0  2023-11-12  00:30:00            0           1         10"
      ]
     },
     "execution_count": 22,
     "metadata": {},
     "output_type": "execute_result"
    }
   ],
   "source": [
    "train_data.sample(3)"
   ]
  },
  {
   "cell_type": "code",
   "execution_count": 23,
   "metadata": {},
   "outputs": [
    {
     "data": {
      "text/html": [
       "<div>\n",
       "<style scoped>\n",
       "    .dataframe tbody tr th:only-of-type {\n",
       "        vertical-align: middle;\n",
       "    }\n",
       "\n",
       "    .dataframe tbody tr th {\n",
       "        vertical-align: top;\n",
       "    }\n",
       "\n",
       "    .dataframe thead th {\n",
       "        text-align: right;\n",
       "    }\n",
       "</style>\n",
       "<table border=\"1\" class=\"dataframe\">\n",
       "  <thead>\n",
       "    <tr style=\"text-align: right;\">\n",
       "      <th></th>\n",
       "      <th>dttm</th>\n",
       "      <th>ASSETNAME</th>\n",
       "      <th>STATUS</th>\n",
       "      <th>date</th>\n",
       "      <th>time</th>\n",
       "      <th>next_status</th>\n",
       "      <th>time_index</th>\n",
       "      <th>esc_index</th>\n",
       "    </tr>\n",
       "  </thead>\n",
       "  <tbody>\n",
       "    <tr>\n",
       "      <th>376</th>\n",
       "      <td>2023-12-01 03:30:00</td>\n",
       "      <td>L&amp;E/BNK/B2/E01</td>\n",
       "      <td>0</td>\n",
       "      <td>2023-12-01</td>\n",
       "      <td>03:30:00</td>\n",
       "      <td>0</td>\n",
       "      <td>7</td>\n",
       "      <td>13</td>\n",
       "    </tr>\n",
       "    <tr>\n",
       "      <th>990</th>\n",
       "      <td>2023-12-01 05:30:00</td>\n",
       "      <td>L&amp;E/DBG/B2/E09</td>\n",
       "      <td>1</td>\n",
       "      <td>2023-12-01</td>\n",
       "      <td>05:30:00</td>\n",
       "      <td>1</td>\n",
       "      <td>11</td>\n",
       "      <td>55</td>\n",
       "    </tr>\n",
       "    <tr>\n",
       "      <th>12</th>\n",
       "      <td>2023-12-01 06:00:00</td>\n",
       "      <td>L&amp;E/BGK/B1/E01</td>\n",
       "      <td>1</td>\n",
       "      <td>2023-12-01</td>\n",
       "      <td>06:00:00</td>\n",
       "      <td>1</td>\n",
       "      <td>12</td>\n",
       "      <td>0</td>\n",
       "    </tr>\n",
       "  </tbody>\n",
       "</table>\n",
       "</div>"
      ],
      "text/plain": [
       "                   dttm       ASSETNAME  STATUS        date      time  next_status  time_index  esc_index\n",
       "376 2023-12-01 03:30:00  L&E/BNK/B2/E01       0  2023-12-01  03:30:00            0           7         13\n",
       "990 2023-12-01 05:30:00  L&E/DBG/B2/E09       1  2023-12-01  05:30:00            1          11         55\n",
       "12  2023-12-01 06:00:00  L&E/BGK/B1/E01       1  2023-12-01  06:00:00            1          12          0"
      ]
     },
     "execution_count": 23,
     "metadata": {},
     "output_type": "execute_result"
    }
   ],
   "source": [
    "test_data.sample(3)"
   ]
  },
  {
   "cell_type": "markdown",
   "metadata": {},
   "source": [
    "## 6. LSTM"
   ]
  },
  {
   "cell_type": "code",
   "execution_count": 24,
   "metadata": {},
   "outputs": [],
   "source": [
    "def build_model():\n",
    "    x_input = tf.keras.Input( \n",
    "        shape=(3,1,), dtype=\"int32\", name=\"x_input\")\n",
    "    x_status = tf.keras.layers.Embedding(3, 32)(x_input[:, 1, :])\n",
    "    x_tm_day = tf.keras.layers.Embedding(48, 32)(x_input[:, 0, :])\n",
    "    x_asset  = tf.keras.layers.Embedding(210, 32)(x_input[:, 2, :])\n",
    "    \n",
    "    x_lstm = tf.keras.layers.LSTM(\n",
    "        32, return_sequences=False)(x_status + x_tm_day + x_asset)\n",
    "    \n",
    "    x_logits = tf.keras.layers.Dense(3)(x_lstm) \n",
    "    x_probs  = tf.nn.softmax(x_logits, axis=-1)\n",
    "    return tf.keras.Model(inputs=x_input, outputs=x_probs)"
   ]
  },
  {
   "cell_type": "code",
   "execution_count": 25,
   "metadata": {},
   "outputs": [
    {
     "name": "stdout",
     "output_type": "stream",
     "text": [
      "Epoch 1/15\n",
      "2353/2353 [==============================] - 6s 2ms/step - loss: 0.6908 - accuracy: 0.7418 - val_loss: 0.4704 - val_accuracy: 0.9074\n",
      "Epoch 2/15\n",
      "2353/2353 [==============================] - 4s 2ms/step - loss: 0.1969 - accuracy: 0.9571 - val_loss: 0.3336 - val_accuracy: 0.9074\n",
      "Epoch 3/15\n",
      "2353/2353 [==============================] - 4s 2ms/step - loss: 0.1596 - accuracy: 0.9571 - val_loss: 0.3167 - val_accuracy: 0.9074\n",
      "Epoch 4/15\n",
      "2353/2353 [==============================] - 4s 2ms/step - loss: 0.1332 - accuracy: 0.9571 - val_loss: 0.2857 - val_accuracy: 0.9074\n",
      "Epoch 5/15\n",
      "2353/2353 [==============================] - 4s 2ms/step - loss: 0.1107 - accuracy: 0.9626 - val_loss: 0.2541 - val_accuracy: 0.9111\n",
      "Epoch 6/15\n",
      "2353/2353 [==============================] - 4s 2ms/step - loss: 0.0980 - accuracy: 0.9682 - val_loss: 0.2356 - val_accuracy: 0.9214\n",
      "Epoch 7/15\n",
      "2353/2353 [==============================] - 4s 2ms/step - loss: 0.0913 - accuracy: 0.9698 - val_loss: 0.2267 - val_accuracy: 0.9317\n",
      "Epoch 8/15\n",
      "2353/2353 [==============================] - 4s 2ms/step - loss: 0.0875 - accuracy: 0.9725 - val_loss: 0.2216 - val_accuracy: 0.9413\n",
      "Epoch 9/15\n",
      "2353/2353 [==============================] - 4s 2ms/step - loss: 0.0853 - accuracy: 0.9749 - val_loss: 0.2189 - val_accuracy: 0.9441\n",
      "Epoch 10/15\n",
      "2353/2353 [==============================] - 4s 2ms/step - loss: 0.0838 - accuracy: 0.9758 - val_loss: 0.2165 - val_accuracy: 0.9444\n",
      "Epoch 11/15\n",
      "2353/2353 [==============================] - 4s 2ms/step - loss: 0.0826 - accuracy: 0.9760 - val_loss: 0.2142 - val_accuracy: 0.9455\n",
      "Epoch 12/15\n",
      "2353/2353 [==============================] - 4s 2ms/step - loss: 0.0817 - accuracy: 0.9762 - val_loss: 0.2116 - val_accuracy: 0.9475\n",
      "Epoch 13/15\n",
      "2353/2353 [==============================] - 4s 2ms/step - loss: 0.0808 - accuracy: 0.9764 - val_loss: 0.2095 - val_accuracy: 0.9485\n",
      "Epoch 14/15\n",
      "2353/2353 [==============================] - 4s 2ms/step - loss: 0.0800 - accuracy: 0.9766 - val_loss: 0.2082 - val_accuracy: 0.9485\n",
      "Epoch 15/15\n",
      "2353/2353 [==============================] - 4s 2ms/step - loss: 0.0793 - accuracy: 0.9769 - val_loss: 0.2057 - val_accuracy: 0.9506\n"
     ]
    },
    {
     "data": {
      "text/plain": [
       "<keras.callbacks.History at 0x163b3d96160>"
      ]
     },
     "execution_count": 25,
     "metadata": {},
     "output_type": "execute_result"
    }
   ],
   "source": [
    "X_train = train_data[\n",
    "    [\"time_index\", \"STATUS\", \"esc_index\"]].values\n",
    "X_valid = test_data[\n",
    "    [\"time_index\", \"STATUS\", \"esc_index\"]].values\n",
    "Y_train = train_data[\"next_status\"].values\n",
    "Y_valid = test_data[\"next_status\"].values\n",
    "\n",
    "lstm_model = build_model()\n",
    "lstm_optim = tf.keras.optimizers.SGD(learning_rate=0.01)\n",
    "\n",
    "lstm_model.compile(\n",
    "    optimizer=lstm_optim, \n",
    "    metrics=\"accuracy\", \n",
    "    loss='sparse_categorical_crossentropy')\n",
    "\n",
    "lstm_model.fit(\n",
    "    X_train, Y_train, epochs=15, \n",
    "    shuffle=True, batch_size=128, \n",
    "    validation_data=((X_valid, Y_valid)))"
   ]
  },
  {
   "cell_type": "markdown",
   "metadata": {},
   "source": [
    "Hyperparameter Tuning of LSTM:\n",
    "\n",
    "Layers: 32, 64, 128\n",
    "\n",
    "Batch Size, 32, 64, 128\n",
    "\n",
    "Learning Rate: 0.001, 0.0001, 0.01\n",
    "\n",
    "Epochs: 10, 15\n",
    "\n",
    "Comparing accuracy and val_accuracy: Layers 32, batch size 128, learning rate 0.01 and epochs 15 provides the best accuracy of 97.69% and val_accuracy of 95.06%."
   ]
  },
  {
   "cell_type": "code",
   "execution_count": 26,
   "metadata": {},
   "outputs": [
    {
     "name": "stdout",
     "output_type": "stream",
     "text": [
      "92/92 [==============================] - 0s 1ms/step\n"
     ]
    }
   ],
   "source": [
    "# Predict test data\n",
    "predictions_lstm = lstm_model.predict(X_valid)\n",
    "pred_status_lstm = tf.argmax(predictions_lstm, axis=1)"
   ]
  },
  {
   "cell_type": "code",
   "execution_count": 27,
   "metadata": {},
   "outputs": [
    {
     "data": {
      "text/plain": [
       "(28, 9)"
      ]
     },
     "execution_count": 27,
     "metadata": {},
     "output_type": "execute_result"
    }
   ],
   "source": [
    "# Identify anomalies indexes, get number of anomalies\n",
    "y_test = test_data['next_status'].values\n",
    "confidence_level = 0.95\n",
    "anomalies_indexes_lstm = calcualte_loss(predictions_lstm,pred_status_lstm,y_test,confidence_level )\n",
    "results_lstm = test_data.copy(deep=True)\n",
    "results_lstm[\"pred_status\"] = pred_status_lstm\n",
    "results_lstm.iloc[anomalies_indexes_lstm].shape"
   ]
  },
  {
   "cell_type": "code",
   "execution_count": 28,
   "metadata": {},
   "outputs": [
    {
     "data": {
      "text/html": [
       "<div>\n",
       "<style scoped>\n",
       "    .dataframe tbody tr th:only-of-type {\n",
       "        vertical-align: middle;\n",
       "    }\n",
       "\n",
       "    .dataframe tbody tr th {\n",
       "        vertical-align: top;\n",
       "    }\n",
       "\n",
       "    .dataframe thead th {\n",
       "        text-align: right;\n",
       "    }\n",
       "</style>\n",
       "<table border=\"1\" class=\"dataframe\">\n",
       "  <thead>\n",
       "    <tr style=\"text-align: right;\">\n",
       "      <th></th>\n",
       "      <th>dttm</th>\n",
       "      <th>ASSETNAME</th>\n",
       "      <th>STATUS</th>\n",
       "      <th>date</th>\n",
       "      <th>time</th>\n",
       "      <th>next_status</th>\n",
       "      <th>pred_status</th>\n",
       "    </tr>\n",
       "  </thead>\n",
       "  <tbody>\n",
       "    <tr>\n",
       "      <th>35</th>\n",
       "      <td>2023-12-01 17:30:00</td>\n",
       "      <td>L&amp;E/BGK/B1/E01</td>\n",
       "      <td>UP</td>\n",
       "      <td>2023-12-01</td>\n",
       "      <td>17:30:00</td>\n",
       "      <td>STOP</td>\n",
       "      <td>UP</td>\n",
       "    </tr>\n",
       "    <tr>\n",
       "      <th>161</th>\n",
       "      <td>2023-12-01 14:00:00</td>\n",
       "      <td>L&amp;E/BGK/B1/E04</td>\n",
       "      <td>UP</td>\n",
       "      <td>2023-12-01</td>\n",
       "      <td>14:00:00</td>\n",
       "      <td>STOP</td>\n",
       "      <td>UP</td>\n",
       "    </tr>\n",
       "    <tr>\n",
       "      <th>189</th>\n",
       "      <td>2023-12-01 06:30:00</td>\n",
       "      <td>L&amp;E/BGK/B2/E01</td>\n",
       "      <td>UP</td>\n",
       "      <td>2023-12-01</td>\n",
       "      <td>06:30:00</td>\n",
       "      <td>STOP</td>\n",
       "      <td>UP</td>\n",
       "    </tr>\n",
       "    <tr>\n",
       "      <th>195</th>\n",
       "      <td>2023-12-01 09:30:00</td>\n",
       "      <td>L&amp;E/BGK/B2/E01</td>\n",
       "      <td>DOWN</td>\n",
       "      <td>2023-12-01</td>\n",
       "      <td>09:30:00</td>\n",
       "      <td>UP</td>\n",
       "      <td>DOWN</td>\n",
       "    </tr>\n",
       "    <tr>\n",
       "      <th>439</th>\n",
       "      <td>2023-12-01 01:00:00</td>\n",
       "      <td>L&amp;E/CNT/B1/E06</td>\n",
       "      <td>STOP</td>\n",
       "      <td>2023-12-01</td>\n",
       "      <td>01:00:00</td>\n",
       "      <td>UP</td>\n",
       "      <td>STOP</td>\n",
       "    </tr>\n",
       "  </tbody>\n",
       "</table>\n",
       "</div>"
      ],
      "text/plain": [
       "                   dttm       ASSETNAME STATUS        date      time next_status pred_status\n",
       "35  2023-12-01 17:30:00  L&E/BGK/B1/E01     UP  2023-12-01  17:30:00        STOP          UP\n",
       "161 2023-12-01 14:00:00  L&E/BGK/B1/E04     UP  2023-12-01  14:00:00        STOP          UP\n",
       "189 2023-12-01 06:30:00  L&E/BGK/B2/E01     UP  2023-12-01  06:30:00        STOP          UP\n",
       "195 2023-12-01 09:30:00  L&E/BGK/B2/E01   DOWN  2023-12-01  09:30:00          UP        DOWN\n",
       "439 2023-12-01 01:00:00  L&E/CNT/B1/E06   STOP  2023-12-01  01:00:00          UP        STOP"
      ]
     },
     "execution_count": 28,
     "metadata": {},
     "output_type": "execute_result"
    }
   ],
   "source": [
    "# Drop cols, decoding, show anomalies (compare next_status with pred_status)\n",
    "results_lstm = results_lstm.drop(columns=[\"time_index\",\"esc_index\"])\n",
    "\n",
    "index_to_status = {value: key for key, value in status_to_index.items()}\n",
    "results_lstm[\"STATUS\"] = [index_to_status[x] for x in results_lstm[\"STATUS\"]]\n",
    "results_lstm[\"next_status\"] = [index_to_status[x] for x in results_lstm[\"next_status\"]]\n",
    "results_lstm[\"pred_status\"] = [index_to_status[x] for x in results_lstm[\"pred_status\"]]\n",
    "\n",
    "results_lstm.iloc[anomalies_indexes_lstm].head()"
   ]
  },
  {
   "cell_type": "markdown",
   "metadata": {},
   "source": [
    "## 7. SimpleRNN"
   ]
  },
  {
   "cell_type": "code",
   "execution_count": 29,
   "metadata": {},
   "outputs": [],
   "source": [
    "def build_rnn_model():\n",
    "    x_input = tf.keras.Input( \n",
    "        shape=(3,1,), dtype=\"int32\", name=\"x_input\")\n",
    "    x_status = tf.keras.layers.Embedding(3, 32)(x_input[:, 1, :])\n",
    "    x_tm_day = tf.keras.layers.Embedding(48, 32)(x_input[:, 0, :])\n",
    "    x_asset  = tf.keras.layers.Embedding(210, 32)(x_input[:, 2, :])\n",
    "    \n",
    "    x_rnn = tf.keras.layers.SimpleRNN(\n",
    "        32, return_sequences=False)(x_status + x_tm_day + x_asset)\n",
    "    \n",
    "    x_logits = tf.keras.layers.Dense(3)(x_rnn) \n",
    "    x_probs  = tf.nn.softmax(x_logits, axis=-1)\n",
    "    return tf.keras.Model(inputs=x_input, outputs=x_probs)"
   ]
  },
  {
   "cell_type": "code",
   "execution_count": 30,
   "metadata": {},
   "outputs": [
    {
     "name": "stdout",
     "output_type": "stream",
     "text": [
      "Epoch 1/15\n",
      "2353/2353 [==============================] - 4s 1ms/step - loss: 0.2338 - accuracy: 0.9394 - val_loss: 0.2798 - val_accuracy: 0.9074\n",
      "Epoch 2/15\n",
      "2353/2353 [==============================] - 4s 1ms/step - loss: 0.1001 - accuracy: 0.9650 - val_loss: 0.2307 - val_accuracy: 0.9228\n",
      "Epoch 3/15\n",
      "2353/2353 [==============================] - 3s 1ms/step - loss: 0.0866 - accuracy: 0.9713 - val_loss: 0.2197 - val_accuracy: 0.9369\n",
      "Epoch 4/15\n",
      "2353/2353 [==============================] - 3s 1ms/step - loss: 0.0831 - accuracy: 0.9742 - val_loss: 0.2147 - val_accuracy: 0.9437\n",
      "Epoch 5/15\n",
      "2353/2353 [==============================] - 3s 1ms/step - loss: 0.0813 - accuracy: 0.9755 - val_loss: 0.2115 - val_accuracy: 0.9427\n",
      "Epoch 6/15\n",
      "2353/2353 [==============================] - 3s 1ms/step - loss: 0.0799 - accuracy: 0.9760 - val_loss: 0.2087 - val_accuracy: 0.9465\n",
      "Epoch 7/15\n",
      "2353/2353 [==============================] - 3s 1ms/step - loss: 0.0788 - accuracy: 0.9764 - val_loss: 0.2059 - val_accuracy: 0.9492\n",
      "Epoch 8/15\n",
      "2353/2353 [==============================] - 3s 1ms/step - loss: 0.0777 - accuracy: 0.9767 - val_loss: 0.2036 - val_accuracy: 0.9475\n",
      "Epoch 9/15\n",
      "2353/2353 [==============================] - 3s 1ms/step - loss: 0.0768 - accuracy: 0.9767 - val_loss: 0.2012 - val_accuracy: 0.9496\n",
      "Epoch 10/15\n",
      "2353/2353 [==============================] - 3s 1ms/step - loss: 0.0759 - accuracy: 0.9768 - val_loss: 0.1996 - val_accuracy: 0.9479\n",
      "Epoch 11/15\n",
      "2353/2353 [==============================] - 3s 1ms/step - loss: 0.0751 - accuracy: 0.9768 - val_loss: 0.1970 - val_accuracy: 0.9506\n",
      "Epoch 12/15\n",
      "2353/2353 [==============================] - 3s 1ms/step - loss: 0.0743 - accuracy: 0.9768 - val_loss: 0.1952 - val_accuracy: 0.9503\n",
      "Epoch 13/15\n",
      "2353/2353 [==============================] - 3s 1ms/step - loss: 0.0736 - accuracy: 0.9769 - val_loss: 0.1925 - val_accuracy: 0.9503\n",
      "Epoch 14/15\n",
      "2353/2353 [==============================] - 3s 1ms/step - loss: 0.0729 - accuracy: 0.9769 - val_loss: 0.1919 - val_accuracy: 0.9506\n",
      "Epoch 15/15\n",
      "2353/2353 [==============================] - 3s 1ms/step - loss: 0.0723 - accuracy: 0.9769 - val_loss: 0.1895 - val_accuracy: 0.9503\n"
     ]
    },
    {
     "data": {
      "text/plain": [
       "<keras.callbacks.History at 0x163a2955070>"
      ]
     },
     "execution_count": 30,
     "metadata": {},
     "output_type": "execute_result"
    }
   ],
   "source": [
    "X_train = train_data[\n",
    "    [\"time_index\", \"STATUS\", \"esc_index\"]].values\n",
    "X_valid = test_data[\n",
    "    [\"time_index\", \"STATUS\", \"esc_index\"]].values\n",
    "Y_train = train_data[\"next_status\"].values\n",
    "Y_valid = test_data[\"next_status\"].values\n",
    "\n",
    "rnn_model = build_rnn_model()\n",
    "rnn_optim = tf.keras.optimizers.SGD(learning_rate=0.01)\n",
    "\n",
    "rnn_model.compile(\n",
    "    optimizer=rnn_optim, \n",
    "    metrics=\"accuracy\", \n",
    "    loss='sparse_categorical_crossentropy')\n",
    "\n",
    "rnn_model.fit(\n",
    "    X_train, Y_train, epochs=15, \n",
    "    shuffle=True, batch_size=128, \n",
    "    validation_data=((X_valid, Y_valid)))"
   ]
  },
  {
   "cell_type": "markdown",
   "metadata": {},
   "source": [
    "Hyperparmeter Tunning of SimpleRNN:\n",
    "\n",
    "Layers: 32, 64, 128\n",
    "\n",
    "Batch Size: 32, 64, 128\n",
    "\n",
    "Learning Rate: 0.001, 0.0001, 0.01\n",
    "\n",
    "Epochs: 10, 15\n",
    "\n",
    "Comparing accuracy and val_accuracy: Layers 32, batch size 128, learning rate 0.01 and epochs 15 provides the best accuracy of 97.69% and val_accuracy of 95.03%."
   ]
  },
  {
   "cell_type": "code",
   "execution_count": 31,
   "metadata": {},
   "outputs": [
    {
     "name": "stdout",
     "output_type": "stream",
     "text": [
      "92/92 [==============================] - 0s 1ms/step\n"
     ]
    }
   ],
   "source": [
    "# Predict test data. #\n",
    "predictions_rnn = rnn_model.predict(X_valid)\n",
    "pred_status_rnn = tf.argmax(predictions_rnn, axis=1)"
   ]
  },
  {
   "cell_type": "code",
   "execution_count": 32,
   "metadata": {},
   "outputs": [
    {
     "data": {
      "text/plain": [
       "(29, 9)"
      ]
     },
     "execution_count": 32,
     "metadata": {},
     "output_type": "execute_result"
    }
   ],
   "source": [
    "# Identify anomalies indexes, get number of anomalies\n",
    "y_test = test_data['next_status'].values\n",
    "confidence_level = 0.95\n",
    "anomalies_indexes_rnn = calcualte_loss(predictions_rnn,pred_status_rnn,y_test,confidence_level )\n",
    "results_rnn = test_data.copy(deep=True)\n",
    "results_rnn[\"pred_status\"] = pred_status_rnn\n",
    "results_rnn.iloc[anomalies_indexes_rnn].shape"
   ]
  },
  {
   "cell_type": "code",
   "execution_count": 33,
   "metadata": {},
   "outputs": [
    {
     "data": {
      "text/html": [
       "<div>\n",
       "<style scoped>\n",
       "    .dataframe tbody tr th:only-of-type {\n",
       "        vertical-align: middle;\n",
       "    }\n",
       "\n",
       "    .dataframe tbody tr th {\n",
       "        vertical-align: top;\n",
       "    }\n",
       "\n",
       "    .dataframe thead th {\n",
       "        text-align: right;\n",
       "    }\n",
       "</style>\n",
       "<table border=\"1\" class=\"dataframe\">\n",
       "  <thead>\n",
       "    <tr style=\"text-align: right;\">\n",
       "      <th></th>\n",
       "      <th>dttm</th>\n",
       "      <th>ASSETNAME</th>\n",
       "      <th>STATUS</th>\n",
       "      <th>date</th>\n",
       "      <th>time</th>\n",
       "      <th>next_status</th>\n",
       "      <th>pred_status</th>\n",
       "    </tr>\n",
       "  </thead>\n",
       "  <tbody>\n",
       "    <tr>\n",
       "      <th>6</th>\n",
       "      <td>2023-12-01 03:00:00</td>\n",
       "      <td>L&amp;E/BGK/B1/E01</td>\n",
       "      <td>STOP</td>\n",
       "      <td>2023-12-01</td>\n",
       "      <td>03:00:00</td>\n",
       "      <td>UP</td>\n",
       "      <td>STOP</td>\n",
       "    </tr>\n",
       "    <tr>\n",
       "      <th>35</th>\n",
       "      <td>2023-12-01 17:30:00</td>\n",
       "      <td>L&amp;E/BGK/B1/E01</td>\n",
       "      <td>UP</td>\n",
       "      <td>2023-12-01</td>\n",
       "      <td>17:30:00</td>\n",
       "      <td>STOP</td>\n",
       "      <td>UP</td>\n",
       "    </tr>\n",
       "    <tr>\n",
       "      <th>51</th>\n",
       "      <td>2023-12-01 03:00:00</td>\n",
       "      <td>L&amp;E/BGK/B1/E02</td>\n",
       "      <td>STOP</td>\n",
       "      <td>2023-12-01</td>\n",
       "      <td>03:00:00</td>\n",
       "      <td>DOWN</td>\n",
       "      <td>STOP</td>\n",
       "    </tr>\n",
       "    <tr>\n",
       "      <th>161</th>\n",
       "      <td>2023-12-01 14:00:00</td>\n",
       "      <td>L&amp;E/BGK/B1/E04</td>\n",
       "      <td>UP</td>\n",
       "      <td>2023-12-01</td>\n",
       "      <td>14:00:00</td>\n",
       "      <td>STOP</td>\n",
       "      <td>UP</td>\n",
       "    </tr>\n",
       "    <tr>\n",
       "      <th>189</th>\n",
       "      <td>2023-12-01 06:30:00</td>\n",
       "      <td>L&amp;E/BGK/B2/E01</td>\n",
       "      <td>UP</td>\n",
       "      <td>2023-12-01</td>\n",
       "      <td>06:30:00</td>\n",
       "      <td>STOP</td>\n",
       "      <td>UP</td>\n",
       "    </tr>\n",
       "  </tbody>\n",
       "</table>\n",
       "</div>"
      ],
      "text/plain": [
       "                   dttm       ASSETNAME STATUS        date      time next_status pred_status\n",
       "6   2023-12-01 03:00:00  L&E/BGK/B1/E01   STOP  2023-12-01  03:00:00          UP        STOP\n",
       "35  2023-12-01 17:30:00  L&E/BGK/B1/E01     UP  2023-12-01  17:30:00        STOP          UP\n",
       "51  2023-12-01 03:00:00  L&E/BGK/B1/E02   STOP  2023-12-01  03:00:00        DOWN        STOP\n",
       "161 2023-12-01 14:00:00  L&E/BGK/B1/E04     UP  2023-12-01  14:00:00        STOP          UP\n",
       "189 2023-12-01 06:30:00  L&E/BGK/B2/E01     UP  2023-12-01  06:30:00        STOP          UP"
      ]
     },
     "execution_count": 33,
     "metadata": {},
     "output_type": "execute_result"
    }
   ],
   "source": [
    "# Drop cols, decoding, show anomalies (compare next_status with pred_status)\n",
    "results_rnn = results_rnn.drop(columns=[\"time_index\",\"esc_index\"])\n",
    "\n",
    "index_to_status = {value: key for key, value in status_to_index.items()}\n",
    "results_rnn[\"STATUS\"] = [index_to_status[x] for x in results_rnn[\"STATUS\"]]\n",
    "results_rnn[\"next_status\"] = [index_to_status[x] for x in results_rnn[\"next_status\"]]\n",
    "results_rnn[\"pred_status\"] = [index_to_status[x] for x in results_rnn[\"pred_status\"]]\n",
    "\n",
    "results_rnn.iloc[anomalies_indexes_rnn].head()"
   ]
  },
  {
   "cell_type": "markdown",
   "metadata": {},
   "source": [
    "## 8. Results"
   ]
  },
  {
   "cell_type": "markdown",
   "metadata": {},
   "source": [
    "LSTM Performance: accuracy: 97.69%, val_accuracy: 95.06%\n",
    "\n",
    "SimpleRNN Performance: accuracy: 97.69%, val_accuracy: 95.03%\n",
    "\n",
    "Best Model: LSTM as LSTM val_accuracy is higher than SimpleRNN val_accuracy"
   ]
  },
  {
   "cell_type": "code",
   "execution_count": 34,
   "metadata": {},
   "outputs": [],
   "source": [
    "# Save file\n",
    "results_lstm.to_csv('Anomalies_lstm.csv')"
   ]
  },
  {
   "cell_type": "code",
   "execution_count": 35,
   "metadata": {},
   "outputs": [],
   "source": [
    "#save model\n",
    "lstm_model.save('lstm_model.h5')"
   ]
  },
  {
   "cell_type": "code",
   "execution_count": 36,
   "metadata": {},
   "outputs": [],
   "source": [
    "# #load model and predict\n",
    "# loaded_model_lstm = load_model('lstm_model.h5')\n",
    "# predictions_lstm = loaded_model_lstm.predict(X_valid)\n",
    "# pred_status_lstm = tf.argmax(predictions_lstm, axis=1)\n",
    "# pred_status_lstm"
   ]
  }
 ],
 "metadata": {
  "kernelspec": {
   "display_name": "cq",
   "language": "python",
   "name": "python3"
  },
  "language_info": {
   "codemirror_mode": {
    "name": "ipython",
    "version": 3
   },
   "file_extension": ".py",
   "mimetype": "text/x-python",
   "name": "python",
   "nbconvert_exporter": "python",
   "pygments_lexer": "ipython3",
   "version": "3.8.20"
  }
 },
 "nbformat": 4,
 "nbformat_minor": 2
}
